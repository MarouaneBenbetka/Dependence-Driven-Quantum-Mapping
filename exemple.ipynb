{
 "cells": [
  {
   "cell_type": "code",
   "execution_count": 2,
   "metadata": {},
   "outputs": [],
   "source": [
    "import islpy as isl\n",
    "from src.io_tools import *\n",
    "from src.graph_tools import *\n",
    "from src.swap_tools import *\n",
    "from prettytable import PrettyTable\n",
    "import time"
   ]
  },
  {
   "cell_type": "code",
   "execution_count": 3,
   "metadata": {},
   "outputs": [],
   "source": [
    "\n",
    "disconnection_map = isl.Map(\"{ [1]->[2] ; [1]->[3] ; [3]->[4]}\")\n",
    "access1 = isl.Map(\"{ [i0] -> [i0] : 0 <= i0 <= 2; [i0] -> [-3 + i0] : 3 <= i0 <= 4; [5] -> [3] }\")\n",
    "access2 = isl.Map(\"{  [i0] -> [4] : 3 <= i0 <= 5; [i0] -> [2] : 0 <= i0 <= 1; [2] -> [3] }\")\n",
    "\n",
    "transform_map = isl.Map(\" { [[a,b] -> [c]] -> [[a] -> [b,c]]}\").coalesce()\n"
   ]
  },
  {
   "cell_type": "code",
   "execution_count": 6,
   "metadata": {},
   "outputs": [
    {
     "ename": "AttributeError",
     "evalue": "'islpy._isl.Map' object has no attribute 'min_val'",
     "output_type": "error",
     "traceback": [
      "\u001b[0;31m---------------------------------------------------------------------------\u001b[0m",
      "\u001b[0;31mAttributeError\u001b[0m                            Traceback (most recent call last)",
      "Cell \u001b[0;32mIn[6], line 1\u001b[0m\n\u001b[0;32m----> 1\u001b[0m \u001b[43maccess1\u001b[49m\u001b[38;5;241;43m.\u001b[39;49m\u001b[43mmin_val\u001b[49m()\n",
      "\u001b[0;31mAttributeError\u001b[0m: 'islpy._isl.Map' object has no attribute 'min_val'"
     ]
    }
   ],
   "source": [
    "access1.min_val()"
   ]
  },
  {
   "cell_type": "code",
   "execution_count": 11,
   "metadata": {},
   "outputs": [
    {
     "data": {
      "text/plain": [
       "Set(\"{ [i0 = 1] }\")"
      ]
     },
     "execution_count": 11,
     "metadata": {},
     "output_type": "execute_result"
    }
   ],
   "source": []
  },
  {
   "cell_type": "code",
   "execution_count": 29,
   "metadata": {},
   "outputs": [
    {
     "data": {
      "text/plain": [
       "Map(\"{ [i0] -> [i0] : 0 <= i0 <= 2; [i0] -> [-3 + i0] : 3 <= i0 <= 4; [i0 = 5] -> [3] }\")"
      ]
     },
     "execution_count": 29,
     "metadata": {},
     "output_type": "execute_result"
    }
   ],
   "source": [
    "access1.flatten()"
   ]
  },
  {
   "cell_type": "code",
   "execution_count": 30,
   "metadata": {},
   "outputs": [
    {
     "data": {
      "text/plain": [
       "Map(\"{ [i0] -> [-3 + i0, 4] : 3 <= i0 <= 4; [i0] -> [i0, 2] : 0 <= i0 <= 1; [5] -> [3, 4]; [2] -> [2, 3] }\")"
      ]
     },
     "execution_count": 30,
     "metadata": {},
     "output_type": "execute_result"
    }
   ],
   "source": [
    "access1.domain_map().apply_range(access2).flatten().wrap().apply(transform_map).unwrap()\n"
   ]
  },
  {
   "cell_type": "code",
   "execution_count": 58,
   "metadata": {},
   "outputs": [
    {
     "data": {
      "text/plain": [
       "Map(\"{ [i0] -> [[-3 + i0] -> [4]] : 3 <= i0 <= 4; [i0] -> [[i0] -> [2]] : 0 <= i0 <= 1; [5] -> [[3] -> [4]]; [2] -> [[2] -> [3]] }\")"
      ]
     },
     "execution_count": 58,
     "metadata": {},
     "output_type": "execute_result"
    }
   ],
   "source": [
    "\n",
    "\n",
    "# [10 -> 2] -> 3\n",
    "\n",
    "# 10 -> [2->3]"
   ]
  },
  {
   "cell_type": "code",
   "execution_count": 52,
   "metadata": {},
   "outputs": [
    {
     "data": {
      "text/plain": [
       "Map(\"{ [[[a] -> [b]] -> [c]] -> [[a] -> [[b] -> [c]]] }\")"
      ]
     },
     "execution_count": 52,
     "metadata": {},
     "output_type": "execute_result"
    }
   ],
   "source": []
  },
  {
   "cell_type": "code",
   "execution_count": 18,
   "metadata": {},
   "outputs": [
    {
     "ename": "TypeError",
     "evalue": "project_out(): incompatible function arguments. The following argument types are supported:\n    1. project_out(self, type: islpy._isl.dim_type, first: int, n: int) -> object\n    2. project_out(self, arg0: islpy._isl.dim_type, arg1: int, arg2: int, /) -> object\n\nInvoked with types: islpy._isl.Map",
     "output_type": "error",
     "traceback": [
      "\u001b[0;31m---------------------------------------------------------------------------\u001b[0m",
      "\u001b[0;31mTypeError\u001b[0m                                 Traceback (most recent call last)",
      "Cell \u001b[0;32mIn[18], line 1\u001b[0m\n\u001b[0;32m----> 1\u001b[0m \u001b[43maccess1\u001b[49m\u001b[38;5;241;43m.\u001b[39;49m\u001b[43mproject_out\u001b[49m\u001b[43m(\u001b[49m\u001b[43m)\u001b[49m\n",
      "\u001b[0;31mTypeError\u001b[0m: project_out(): incompatible function arguments. The following argument types are supported:\n    1. project_out(self, type: islpy._isl.dim_type, first: int, n: int) -> object\n    2. project_out(self, arg0: islpy._isl.dim_type, arg1: int, arg2: int, /) -> object\n\nInvoked with types: islpy._isl.Map"
     ]
    }
   ],
   "source": [
    "project_onto_map()\n",
    "\n",
    "project_out()\n",
    "\n",
    "project_out_all_params()\n",
    "\n",
    "project_out_except()\n",
    "\n",
    "project_out_param_id()\n",
    "\n",
    "project_out_param_id_list()\n",
    "\n"
   ]
  },
  {
   "cell_type": "code",
   "execution_count": null,
   "metadata": {},
   "outputs": [],
   "source": [
    "disconnected_edges = \" [1, 2] ; [3 , 4]\"\n"
   ]
  },
  {
   "cell_type": "code",
   "execution_count": 2,
   "metadata": {},
   "outputs": [],
   "source": [
    "import warnings\n",
    "import logging\n",
    "\n",
    "warnings.filterwarnings(\"ignore\")\n",
    "logging.getLogger('stevedore.extension').setLevel(logging.CRITICAL)\n"
   ]
  },
  {
   "cell_type": "code",
   "execution_count": 3,
   "metadata": {},
   "outputs": [],
   "source": [
    "json_file_path = 'benchmarks/polyhedral/queko-bss-16qbt/16QBT_100CYC_QSE_0.json'\n",
    "\n",
    "data = json_file_to_isl(json_file_path)"
   ]
  },
  {
   "cell_type": "code",
   "execution_count": 4,
   "metadata": {},
   "outputs": [],
   "source": [
    "\n",
    "domain, access, schedule = filter_multi_qubit_gates(data[\"domain\"], data[\"read_dependencies\"], data[\"schedule\"])\n"
   ]
  },
  {
   "cell_type": "code",
   "execution_count": 5,
   "metadata": {},
   "outputs": [],
   "source": [
    "regex = re.compile(r'(?<=\\[)(.*?)(?=\\])')\n",
    "num_qubits = int(regex.findall(data['read_dependencies'].range().as_set().lexmax().to_str())[0]) + 1"
   ]
  },
  {
   "cell_type": "code",
   "execution_count": 6,
   "metadata": {},
   "outputs": [],
   "source": [
    "physical_qubits_domain = isl.Set(f\"{{ [i] : 1 <= i <= {num_qubits} }}\")"
   ]
  },
  {
   "cell_type": "code",
   "execution_count": 7,
   "metadata": {},
   "outputs": [],
   "source": [
    "# Generate a 2D grid for 200 qubits (10 rows and 20 columns)\n",
    "def generate_2d_grid(num_rows, num_cols):\n",
    "    num_qubits = num_rows * num_cols\n",
    "    graph = [[] for _ in range(num_qubits)]\n",
    "    \n",
    "    for i in range(num_rows):\n",
    "        for j in range(num_cols):\n",
    "            index = i * num_cols + j\n",
    "            # Connect to the left neighbor\n",
    "            if j > 0:\n",
    "                graph[index].append(index - 1)\n",
    "            # Connect to the right neighbor\n",
    "            if j + 1 < num_cols:\n",
    "                graph[index].append(index + 1)\n",
    "            # Connect to the top neighbor\n",
    "            if i > 0:\n",
    "                graph[index].append(index - num_cols)\n",
    "            # Connect to the bottom neighbor\n",
    "            if i + 1 < num_rows:\n",
    "                graph[index].append(index + num_cols)\n",
    "    \n",
    "    return graph\n",
    "\n",
    "num_rows = 4\n",
    "num_cols = 4\n",
    "graph = generate_2d_grid(num_rows, num_cols)\n",
    "\n"
   ]
  },
  {
   "cell_type": "code",
   "execution_count": 8,
   "metadata": {},
   "outputs": [],
   "source": [
    "backend_disconnected_edges =  extract_edges_map(graph)\n",
    "shortest_paths = extract_shortest_paths(graph)"
   ]
  },
  {
   "cell_type": "code",
   "execution_count": 9,
   "metadata": {},
   "outputs": [],
   "source": [
    "initial_mapping = isl.Map(f\"{{ q[i] -> [i] : 1<=i<={num_qubits} }}\")"
   ]
  },
  {
   "cell_type": "code",
   "execution_count": 10,
   "metadata": {},
   "outputs": [],
   "source": [
    "mapping = initial_mapping\n",
    "swap_count = 0\n",
    "programme = schedule\n"
   ]
  },
  {
   "cell_type": "code",
   "execution_count": 13,
   "metadata": {},
   "outputs": [
    {
     "data": {
      "text/plain": [
       "Map(\"{ [2] -> [[5] -> [6]]; [1] -> [[2] -> [3]] }\")"
      ]
     },
     "execution_count": 13,
     "metadata": {},
     "output_type": "execute_result"
    }
   ],
   "source": [
    "map1 = isl.Map(\"{[1] -> [2]; [2] -> [5]}\")\n",
    "map2 = isl.Map(\"{[1] -> [3]; [2] -> [6]}\")\n",
    "\n",
    "map1.range_product(map2)\n"
   ]
  },
  {
   "cell_type": "code",
   "execution_count": 11,
   "metadata": {},
   "outputs": [
    {
     "ename": "KeyboardInterrupt",
     "evalue": "",
     "output_type": "error",
     "traceback": [
      "\u001b[0;31m---------------------------------------------------------------------------\u001b[0m",
      "\u001b[0;31mKeyboardInterrupt\u001b[0m                         Traceback (most recent call last)",
      "Cell \u001b[0;32mIn[11], line 19\u001b[0m\n\u001b[1;32m     17\u001b[0m swap_count \u001b[38;5;241m+\u001b[39m\u001b[38;5;241m=\u001b[39m shortest_paths[q1][\u001b[38;5;124m'\u001b[39m\u001b[38;5;124mcosts\u001b[39m\u001b[38;5;124m'\u001b[39m][q2] \u001b[38;5;241m-\u001b[39m\u001b[38;5;241m1\u001b[39m\n\u001b[1;32m     18\u001b[0m new_domain \u001b[38;5;241m=\u001b[39m programme\u001b[38;5;241m.\u001b[39mdomain()\u001b[38;5;241m.\u001b[39mas_set()\u001b[38;5;241m.\u001b[39mlex_gt_set(first_disconnected_edge\u001b[38;5;241m.\u001b[39mas_set())\u001b[38;5;241m.\u001b[39mdomain()\n\u001b[0;32m---> 19\u001b[0m programme \u001b[38;5;241m=\u001b[39m \u001b[43mprogramme\u001b[49m\u001b[38;5;241;43m.\u001b[39;49m\u001b[43mintersect_domain\u001b[49m\u001b[43m(\u001b[49m\u001b[43mnew_domain\u001b[49m\u001b[43m)\u001b[49m\u001b[38;5;241m.\u001b[39mcoalesce()\n\u001b[1;32m     20\u001b[0m swap_map \u001b[38;5;241m=\u001b[39m swaps_to_isl_map(shortest_paths[q1][\u001b[38;5;124m'\u001b[39m\u001b[38;5;124mpaths\u001b[39m\u001b[38;5;124m'\u001b[39m][q2])\n\u001b[1;32m     21\u001b[0m mapping \u001b[38;5;241m=\u001b[39m apply_swaps_to_logical_qubits_map(swap_map,mapping,physical_qubits_domain)\n",
      "\u001b[0;31mKeyboardInterrupt\u001b[0m: "
     ]
    }
   ],
   "source": [
    "\n",
    "\n",
    "iteration = 0\n",
    "start = time.time()\n",
    "while not programme.is_empty():\n",
    "    #print(f\"Iteration {iteration}\")\n",
    "    #print(programme.domain())\n",
    "    iteration += 1\n",
    "    programme_mapped = programme.apply_range(mapping)\n",
    "    first_programme_mapped = programme_mapped.lexmin()\n",
    "    second_programme_mapped = programme_mapped.subtract(first_programme_mapped)\n",
    "    programme_access = first_programme_mapped.flat_range_product(second_programme_mapped)\n",
    "    first_disconnected_edge = programme_access.intersect_range(backend_disconnected_edges).domain().lexmin()\n",
    "    if first_disconnected_edge.is_empty():\n",
    "        break\n",
    "\n",
    "    disconected_qubits = programme_mapped.intersect_domain(first_disconnected_edge).range().as_set()\n",
    "    q1 , q2 = disconected_qubits.dim_min_val(0).to_python(),disconected_qubits.dim_max_val(0).to_python()\n",
    "    swap_count += shortest_paths[q1]['costs'][q2] -1\n",
    "    new_domain = programme.domain().as_set().lex_gt_set(first_disconnected_edge.as_set()).domain()\n",
    "    programme = programme.intersect_domain(new_domain).coalesce()\n",
    "    swap_map = swaps_to_isl_map(shortest_paths[q1]['paths'][q2])\n",
    "    mapping = apply_swaps_to_logical_qubits_map(swap_map,mapping,physical_qubits_domain)\n",
    "    \n",
    "\n",
    "end = time.time()\n",
    "\n"
   ]
  },
  {
   "cell_type": "code",
   "execution_count": 277,
   "metadata": {},
   "outputs": [
    {
     "name": "stdout",
     "output_type": "stream",
     "text": [
      "{ [10] }\n",
      "{ [21] }\n",
      "{ [23] }\n",
      "{ [35] }\n",
      "{ [36] }\n",
      "{ [57] }\n",
      "{ [58] }\n",
      "{ [59] }\n",
      "{ [66] }\n",
      "{ [67] }\n",
      "{ [68] }\n",
      "{ [87] }\n",
      "{ [88] }\n",
      "{ [90] }\n",
      "{ [99] }\n",
      "{ [102] }\n",
      "{ [112] }\n",
      "{ [119] }\n",
      "{ [121] }\n",
      "{ [133] }\n",
      "{ [134] }\n",
      "{ [143] }\n",
      "{ [145] }\n",
      "{ [146] }\n",
      "{ [152] }\n",
      "{ [153] }\n",
      "{ [154] }\n",
      "{ [167] }\n",
      "{ [168] }\n",
      "{ [189] }\n",
      "{ [191] }\n",
      "{ [212] }\n",
      "{ [213] }\n",
      "{ [215] }\n",
      "{ [236] }\n",
      "{ [237] }\n",
      "{ [252] }\n",
      "{ [263] }\n",
      "{ [272] }\n",
      "{ [273] }\n",
      "{ [274] }\n",
      "{ [275] }\n",
      "{ [284] }\n",
      "{ [285] }\n",
      "{ [286] }\n",
      "{ [287] }\n",
      "{ [297] }\n",
      "{ [298] }\n",
      "{ [306] }\n",
      "{ [307] }\n",
      "{ [308] }\n",
      "{ [320] }\n",
      "{ [321] }\n",
      "{ [322] }\n",
      "{ [332] }\n",
      "{ [356] }\n",
      "{ [363] }\n",
      "{ [365] }\n",
      "{ [366] }\n",
      "{ [376] }\n",
      "{ [377] }\n",
      "{ [385] }\n",
      "{ [386] }\n",
      "{ [387] }\n",
      "{ [396] }\n",
      "{ [397] }\n",
      "{ [398] }\n",
      "{ [422] }\n",
      "{ [432] }\n",
      "{ [433] }\n",
      "{ [442] }\n",
      "{ [443] }\n",
      "{ [444] }\n",
      "{ [451] }\n",
      "{ [452] }\n",
      "{ [453] }\n",
      "{ [454] }\n",
      "{ [461] }\n",
      "{ [463] }\n",
      "{ [464] }\n",
      "{ [472] }\n",
      "{ [474] }\n",
      "{ [485] }\n",
      "{ [487] }\n",
      "{ [498] }\n",
      "{ [499] }\n",
      "{ [508] }\n",
      "{ [509] }\n",
      "{ [510] }\n",
      "{ [515] }\n",
      "{ [516] }\n",
      "{ [519] }\n",
      "{ [530] }\n",
      "{ [531] }\n",
      "{ [537] }\n",
      "{ [540] }\n",
      "{ [551] }\n",
      "{ [553] }\n",
      "{ [564] }\n",
      "{ [565] }\n",
      "{ [576] }\n",
      "{ [578] }\n",
      "{ [591] }\n",
      "{ [600] }\n",
      "{ [601] }\n",
      "{ [614] }\n",
      "{ [615] }\n",
      "{ [626] }\n",
      "{ [628] }\n",
      "{ [640] }\n",
      "{ [658] }\n",
      "{ [659] }\n",
      "{ [660] }\n",
      "{ [661] }\n",
      "{ [673] }\n",
      "{ [683] }\n",
      "{ [684] }\n",
      "{ [692] }\n",
      "{ [694] }\n",
      "{ [695] }\n",
      "{ [706] }\n",
      "{ [707] }\n",
      "{ [718] }\n",
      "{ [719] }\n",
      "{ [732] }\n",
      "{ [739] }\n",
      "{ [740] }\n",
      "{ [741] }\n",
      "{ [755] }\n",
      "{ [768] }\n",
      "{ [781] }\n",
      "{ [782] }\n",
      "{ [791] }\n",
      "{ [792] }\n",
      "{ [793] }\n",
      "{ [803] }\n",
      "{ [805] }\n",
      "{ [818] }\n",
      "{ [825] }\n",
      "{ [826] }\n",
      "{ [834] }\n",
      "{ [835] }\n",
      "{ [836] }\n",
      "{ [844] }\n",
      "{ [845] }\n",
      "{ [846] }\n",
      "{ [855] }\n",
      "{ [868] }\n",
      "{ [877] }\n",
      "{ [878] }\n",
      "{ [879] }\n",
      "{ [889] }\n",
      "{ [890] }\n",
      "{ [894] }\n",
      "{ [897] }\n",
      "{ [898] }\n",
      "{ [916] }\n",
      "{ [917] }\n",
      "{ [925] }\n",
      "{ [926] }\n",
      "{ [928] }\n",
      "{ [935] }\n",
      "{ [936] }\n",
      "{ [937] }\n",
      "{ [938] }\n",
      "{ [951] }\n",
      "{ [961] }\n",
      "{ [962] }\n",
      "{ [976] }\n",
      "{ [999] }\n",
      "{ [1012] }\n",
      "{ [1022] }\n",
      "{ [1023] }\n",
      "{ [1033] }\n",
      "{ [1034] }\n",
      "{ [1043] }\n",
      "{ [1045] }\n",
      "{ [1053] }\n",
      "{ [1066] }\n",
      "{ [1067] }\n",
      "{ [1068] }\n",
      "{ [1075] }\n",
      "{ [1077] }\n",
      "{ [1079] }\n",
      "{ [1089] }\n",
      "{ [1091] }\n",
      "{ [1100] }\n",
      "{ [1101] }\n",
      "{ [1108] }\n",
      "{ [1109] }\n",
      "{ [1110] }\n",
      "{ [1111] }\n",
      "{ [1121] }\n",
      "{ [1123] }\n",
      "Total number of swaps: 394\n",
      "Total number of iterations: 195\n",
      "Execution time: 114.11078333854675\n"
     ]
    }
   ],
   "source": [
    "\n",
    "start = time.time()\n",
    "iteration = 0\n",
    "while not programme.is_empty():\n",
    "    iteration += 1\n",
    "    programme_mapped = programme.apply_range(mapping)\n",
    "    first_programme_mapped = programme_mapped.lexmin()\n",
    "    second_programme_mapped = programme_mapped.subtract(first_programme_mapped)\n",
    "    programme_access = first_programme_mapped.flat_range_product(second_programme_mapped)\n",
    "\n",
    "    first_disconnected_edge = programme_access.intersect_range(backend_disconnected_edges).domain().lexmin()\n",
    "\n",
    "    if first_disconnected_edge.is_empty():\n",
    "        break\n",
    "\n",
    "    disconected_qubits = programme_mapped.intersect_domain(first_disconnected_edge).range().as_set()\n",
    "    q1 , q2 = disconected_qubits.dim_min_val(0).to_python(),disconected_qubits.dim_max_val(0).to_python()\n",
    "    swap_count += shortest_paths[q1]['costs'][q2] - 1\n",
    "    print(first_disconnected_edge)\n",
    "    new_domain = programme.domain().as_set().lex_gt_set(first_disconnected_edge.as_set()).domain().coalesce()\n",
    "    programme = programme.intersect_domain(new_domain)\n",
    "    mapping = apply_swaps_to_logical_qubits_map(shortest_paths[q1]['isl_maps'][q2],mapping,physical_qubits_domain)\n",
    "\n",
    "print(f\"Total number of swaps: {swap_count}\")\n",
    "print(f\"Total number of iterations: {iteration}\")\n",
    "print(f\"Execution time: {time.time() - start}\")\n"
   ]
  },
  {
   "cell_type": "code",
   "execution_count": 289,
   "metadata": {},
   "outputs": [
    {
     "data": {
      "text/plain": [
       "151"
      ]
     },
     "execution_count": 289,
     "metadata": {},
     "output_type": "execute_result"
    }
   ],
   "source": [
    "swap_count"
   ]
  },
  {
   "cell_type": "code",
   "execution_count": 290,
   "metadata": {},
   "outputs": [
    {
     "data": {
      "text/plain": [
       "110"
      ]
     },
     "execution_count": 290,
     "metadata": {},
     "output_type": "execute_result"
    }
   ],
   "source": [
    "iteration"
   ]
  },
  {
   "cell_type": "code",
   "execution_count": 16,
   "metadata": {},
   "outputs": [],
   "source": [
    "results_table = PrettyTable()\n",
    "\n",
    "results_table.field_names = [\"Method\",\"Swap Count\", \"Execution Time (s)\"]\n",
    "results_table.add_row([\"Our solution\", swap_count, end-start])"
   ]
  },
  {
   "cell_type": "markdown",
   "metadata": {},
   "source": [
    "----------------------"
   ]
  },
  {
   "cell_type": "code",
   "execution_count": 17,
   "metadata": {},
   "outputs": [],
   "source": [
    "from qiskit import QuantumCircuit, transpile\n",
    "from qiskit.transpiler import CouplingMap, PassManager ,Layout\n",
    "from qiskit.transpiler.passes import LookaheadSwap, SabreSwap\n",
    "from qiskit_aer import Aer"
   ]
  },
  {
   "cell_type": "code",
   "execution_count": 18,
   "metadata": {},
   "outputs": [],
   "source": [
    "qasm_code = json_file_qasm(json_file_path)\n",
    "qc = QuantumCircuit.from_qasm_str(qasm_code)\n",
    "\n",
    "num_qubits = qc.num_qubits"
   ]
  },
  {
   "cell_type": "code",
   "execution_count": 20,
   "metadata": {},
   "outputs": [
    {
     "data": {
      "text/plain": [
       "Set(\"{ [[2] -> [5]]; [[1] -> [2]] }\")"
      ]
     },
     "execution_count": 20,
     "metadata": {},
     "output_type": "execute_result"
    }
   ],
   "source": [
    "isl.Set('{ [[1]->[2]] ; [[2]->[5]] }')"
   ]
  },
  {
   "cell_type": "code",
   "execution_count": 21,
   "metadata": {},
   "outputs": [
    {
     "data": {
      "text/plain": [
       "Set(\"{ [[i] -> [j]] : i > 0 and j > i and 3 <= j <= 16 and (j <= 4 or j >= 6); [[i = 1] -> [j = 5]]; [[i] -> [j = 5]] : 3 <= i <= 4 }\")"
      ]
     },
     "execution_count": 21,
     "metadata": {},
     "output_type": "execute_result"
    }
   ],
   "source": [
    "isl.Set(f\"{{  [[i] -> [j]] : 1 <= i<j <= {len(graph)} }}\").subtract(isl.Set('{ [[1]->[2]] ; [[2]->[5]] }'))"
   ]
  },
  {
   "cell_type": "code",
   "execution_count": 20,
   "metadata": {},
   "outputs": [],
   "source": [
    "edges = [(i, j) for i, neighbors in enumerate(graph) for j in neighbors if i < j]\n",
    "\n",
    "coupling_map = CouplingMap(edges)"
   ]
  },
  {
   "cell_type": "code",
   "execution_count": 21,
   "metadata": {},
   "outputs": [],
   "source": [
    "layout_dict = {qc.qubits[i]: i for i in range(num_qubits)}  \n",
    "layout = Layout(layout_dict)"
   ]
  },
  {
   "cell_type": "code",
   "execution_count": 22,
   "metadata": {},
   "outputs": [],
   "source": [
    "pass_manager = PassManager()\n",
    "pass_manager.append(LookaheadSwap(coupling_map))"
   ]
  },
  {
   "cell_type": "code",
   "execution_count": 23,
   "metadata": {},
   "outputs": [
    {
     "data": {
      "text/plain": [
       "OrderedDict([('x', 816), ('cx', 320)])"
      ]
     },
     "execution_count": 23,
     "metadata": {},
     "output_type": "execute_result"
    }
   ],
   "source": [
    "qc.count_ops()"
   ]
  },
  {
   "cell_type": "code",
   "execution_count": 24,
   "metadata": {},
   "outputs": [],
   "source": [
    "start_time = time.time()\n",
    "transpiled_circuit = transpile(qc, coupling_map=coupling_map, initial_layout=layout)\n",
    "optimized_circuit = pass_manager.run(transpiled_circuit)\n",
    "end_time = time.time()"
   ]
  },
  {
   "cell_type": "code",
   "execution_count": 25,
   "metadata": {},
   "outputs": [],
   "source": [
    "swap_count = sum(1 for op in transpiled_circuit.data if op[0].name == 'swap')"
   ]
  },
  {
   "cell_type": "code",
   "execution_count": 26,
   "metadata": {},
   "outputs": [],
   "source": [
    "results_table.add_row([\"LookaheadSwap\", swap_count, end_time-start_time])"
   ]
  },
  {
   "cell_type": "code",
   "execution_count": 27,
   "metadata": {},
   "outputs": [],
   "source": [
    "pass_manager = PassManager()\n",
    "pass_manager.append(SabreSwap(coupling_map))\n",
    "\n",
    "start_time = time.time()\n",
    "transpiled_circuit = transpile(qc, coupling_map=coupling_map, initial_layout=layout)\n",
    "optimized_circuit = pass_manager.run(transpiled_circuit)\n",
    "end_time = time.time()\n",
    "\n",
    "swap_count = sum(1 for op in transpiled_circuit.data if op[0].name == 'swap')\n",
    "\n",
    "results_table.add_row([\"SabreSwap\", swap_count, end_time-start_time])"
   ]
  },
  {
   "cell_type": "code",
   "execution_count": 28,
   "metadata": {},
   "outputs": [],
   "source": [
    "start_time = time.time()\n",
    "transpiled_circuit = transpile(qc, coupling_map=coupling_map, initial_layout=layout,optimization_level=0)\n",
    "end_time = time.time()\n",
    "swap_count = sum(1 for op in transpiled_circuit.data if op[0].name == 'swap')\n",
    "\n",
    "results_table.add_row([\"without optimizer\", swap_count, end_time-start_time])"
   ]
  },
  {
   "cell_type": "code",
   "execution_count": 29,
   "metadata": {},
   "outputs": [
    {
     "name": "stdout",
     "output_type": "stream",
     "text": [
      "+-------------------+------------+---------------------+\n",
      "|       Method      | Swap Count |  Execution Time (s) |\n",
      "+-------------------+------------+---------------------+\n",
      "|    Our solution   |    151     |   38.8696825504303  |\n",
      "|   LookaheadSwap   |     30     |  0.5446712970733643 |\n",
      "|     SabreSwap     |     22     |  0.1252748966217041 |\n",
      "| without optimizer |    128     | 0.07019400596618652 |\n",
      "+-------------------+------------+---------------------+\n"
     ]
    }
   ],
   "source": [
    "print(results_table)"
   ]
  },
  {
   "cell_type": "code",
   "execution_count": null,
   "metadata": {},
   "outputs": [],
   "source": []
  }
 ],
 "metadata": {
  "kernelspec": {
   "display_name": "Python 3",
   "language": "python",
   "name": "python3"
  },
  "language_info": {
   "codemirror_mode": {
    "name": "ipython",
    "version": 3
   },
   "file_extension": ".py",
   "mimetype": "text/x-python",
   "name": "python",
   "nbconvert_exporter": "python",
   "pygments_lexer": "ipython3",
   "version": "3.12.3"
  }
 },
 "nbformat": 4,
 "nbformat_minor": 2
}
