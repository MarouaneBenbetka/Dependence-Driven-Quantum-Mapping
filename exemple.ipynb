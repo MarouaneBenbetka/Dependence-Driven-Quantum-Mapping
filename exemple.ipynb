{
 "cells": [
  {
   "cell_type": "code",
   "execution_count": 10,
   "metadata": {},
   "outputs": [],
   "source": [
    "import islpy as isl\n",
    "from src.io_tools import *\n",
    "from src.graph_tools import *\n",
    "from src.swap_tools import *"
   ]
  },
  {
   "cell_type": "code",
   "execution_count": 11,
   "metadata": {},
   "outputs": [],
   "source": [
    "json_file_path = 'benchmarks/polyhedral/cases/case2.json'\n",
    "\n",
    "data = json_file_to_isl(json_file_path)"
   ]
  },
  {
   "cell_type": "code",
   "execution_count": 12,
   "metadata": {},
   "outputs": [],
   "source": [
    "domain = data[\"domain\"]\n",
    "access = data[\"read_dependencies\"]\n",
    "schedule = data[\"schedule\"]\n",
    "qops = data[\"Qops\"]"
   ]
  },
  {
   "cell_type": "code",
   "execution_count": 13,
   "metadata": {},
   "outputs": [],
   "source": [
    "physical_qubits_domain = isl.Set(f\"{{ Q[i] : 1 <= i <= {qops} }}\")"
   ]
  },
  {
   "cell_type": "code",
   "execution_count": 14,
   "metadata": {},
   "outputs": [],
   "source": [
    "# backend\n",
    "\n",
    "graph = defaultdict(list)\n",
    "    \n",
    "graph['Q[1]'] = ['Q[2]', 'Q[4]']\n",
    "graph['Q[2]'] = ['Q[1]', 'Q[3]', 'Q[5]']\n",
    "graph['Q[3]'] = ['Q[2]', 'Q[6]']\n",
    "graph['Q[4]'] = ['Q[1]', 'Q[5]']\n",
    "graph['Q[5]'] = ['Q[2]', 'Q[4]', 'Q[6]']\n",
    "graph['Q[6]'] = ['Q[3]', 'Q[5]']\n",
    "\n",
    "\n",
    "backend_disconnected_edges =  extract_edges_map(graph)\n",
    "shortest_paths = extract_shortest_paths(graph)"
   ]
  },
  {
   "cell_type": "code",
   "execution_count": 15,
   "metadata": {},
   "outputs": [],
   "source": [
    "initial_mapping = isl.Map(f\"{{ q[i] -> Q[i] : 1<=i<={qops} }}\")"
   ]
  },
  {
   "cell_type": "code",
   "execution_count": 16,
   "metadata": {},
   "outputs": [],
   "source": [
    "programme = schedule.reverse().apply_range(access)"
   ]
  },
  {
   "cell_type": "code",
   "execution_count": 17,
   "metadata": {},
   "outputs": [],
   "source": [
    "mapping = initial_mapping\n",
    "swap_count = 0\n",
    "\n",
    "while not programme.is_empty():\n",
    "    programme_mapped = programme.apply_range(mapping)\n",
    "    programme_access = programme_mapped.flat_range_product(programme_mapped).intersect_range(isl.Set(\"{ [i, j] : i > j }\"))\n",
    "    first_disconnected_edge = programme_access.apply_range(backend_disconnected_edges).lexmin()\n",
    "    if first_disconnected_edge.is_empty():\n",
    "        break\n",
    "\n",
    "    disconected_qubits = programme_mapped.intersect_domain(first_disconnected_edge.domain()).range().as_set()\n",
    "    first_qubit , second_qubit = disconected_qubits.lexmin().to_str().replace(\"{\", \"\").replace(\"}\", \"\").strip() , disconected_qubits.lexmax().to_str().replace(\"{\", \"\").replace(\"}\", \"\").strip()\n",
    "    swap_count += shortest_paths[first_qubit]['costs'][second_qubit] -1\n",
    "    new_domain = programme.domain().as_set().lex_ge_set(first_disconnected_edge.domain().as_set()).domain()\n",
    "    programme = programme.intersect_domain(new_domain)\n",
    "\n",
    "    swap_map = swaps_to_isl_map(shortest_paths[first_qubit]['paths'][second_qubit])\n",
    "    mapping = apply_swaps_to_logical_qubits_map(swap_map,initial_mapping,physical_qubits_domain)\n"
   ]
  },
  {
   "cell_type": "code",
   "execution_count": 18,
   "metadata": {},
   "outputs": [
    {
     "data": {
      "text/plain": [
       "0"
      ]
     },
     "execution_count": 18,
     "metadata": {},
     "output_type": "execute_result"
    }
   ],
   "source": [
    "swap_count"
   ]
  }
 ],
 "metadata": {
  "kernelspec": {
   "display_name": "Python 3",
   "language": "python",
   "name": "python3"
  },
  "language_info": {
   "codemirror_mode": {
    "name": "ipython",
    "version": 3
   },
   "file_extension": ".py",
   "mimetype": "text/x-python",
   "name": "python",
   "nbconvert_exporter": "python",
   "pygments_lexer": "ipython3",
   "version": "3.10.12"
  }
 },
 "nbformat": 4,
 "nbformat_minor": 2
}
