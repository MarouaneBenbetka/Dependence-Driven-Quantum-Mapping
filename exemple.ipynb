{
 "cells": [
  {
   "cell_type": "code",
   "execution_count": 1,
   "metadata": {},
   "outputs": [],
   "source": [
    "import islpy as isl\n",
    "from src.io_tools import *\n",
    "from src.graph_tools import *\n",
    "from src.swap_tools import *\n",
    "from prettytable import PrettyTable"
   ]
  },
  {
   "cell_type": "code",
   "execution_count": 2,
   "metadata": {},
   "outputs": [],
   "source": [
    "import warnings\n",
    "import logging\n",
    "\n",
    "warnings.filterwarnings(\"ignore\")\n",
    "logging.getLogger('stevedore.extension').setLevel(logging.CRITICAL)\n"
   ]
  },
  {
   "cell_type": "code",
   "execution_count": 3,
   "metadata": {},
   "outputs": [],
   "source": [
    "json_file_path = 'benchmarks/polyhedral/queko-bss-16qbt/16QBT_100CYC_QSE_9.json'\n",
    "\n",
    "data = json_file_to_isl(json_file_path)"
   ]
  },
  {
   "cell_type": "code",
   "execution_count": 4,
   "metadata": {},
   "outputs": [],
   "source": [
    "\n",
    "domain, access, schedule = filter_multi_qubit_gates(data[\"domain\"], data[\"read_dependencies\"], data[\"schedule\"])\n"
   ]
  },
  {
   "cell_type": "code",
   "execution_count": 5,
   "metadata": {},
   "outputs": [],
   "source": [
    "regex = re.compile(r'(?<=\\[)(.*?)(?=\\])')\n",
    "num_qubits = int(regex.findall(data['read_dependencies'].range().as_set().lexmax().to_str())[0]) + 1"
   ]
  },
  {
   "cell_type": "code",
   "execution_count": 6,
   "metadata": {},
   "outputs": [],
   "source": [
    "physical_qubits_domain = isl.Set(f\"{{ [i] : 1 <= i <= {num_qubits} }}\")"
   ]
  },
  {
   "cell_type": "code",
   "execution_count": 7,
   "metadata": {},
   "outputs": [],
   "source": [
    "# Generate a 2D grid for 200 qubits (10 rows and 20 columns)\n",
    "def generate_2d_grid(num_rows, num_cols):\n",
    "    num_qubits = num_rows * num_cols\n",
    "    graph = [[] for _ in range(num_qubits)]\n",
    "    \n",
    "    for i in range(num_rows):\n",
    "        for j in range(num_cols):\n",
    "            index = i * num_cols + j\n",
    "            # Connect to the left neighbor\n",
    "            if j > 0:\n",
    "                graph[index].append(index - 1)\n",
    "            # Connect to the right neighbor\n",
    "            if j + 1 < num_cols:\n",
    "                graph[index].append(index + 1)\n",
    "            # Connect to the top neighbor\n",
    "            if i > 0:\n",
    "                graph[index].append(index - num_cols)\n",
    "            # Connect to the bottom neighbor\n",
    "            if i + 1 < num_rows:\n",
    "                graph[index].append(index + num_cols)\n",
    "    \n",
    "    return graph\n",
    "\n",
    "num_rows = 4\n",
    "num_cols = 4\n",
    "graph = generate_2d_grid(num_rows, num_cols)\n",
    "\n"
   ]
  },
  {
   "cell_type": "code",
   "execution_count": 8,
   "metadata": {},
   "outputs": [],
   "source": [
    "backend_disconnected_edges =  extract_edges_map(graph)\n",
    "shortest_paths = extract_shortest_paths(graph)"
   ]
  },
  {
   "cell_type": "code",
   "execution_count": 9,
   "metadata": {},
   "outputs": [],
   "source": [
    "initial_mapping = isl.Map(f\"{{ q[i] -> [i] : 1<=i<={num_qubits} }}\")"
   ]
  },
  {
   "cell_type": "code",
   "execution_count": 10,
   "metadata": {},
   "outputs": [],
   "source": [
    "mapping = initial_mapping\n",
    "swap_count = 0\n",
    "programme = schedule\n"
   ]
  },
  {
   "cell_type": "code",
   "execution_count": 11,
   "metadata": {},
   "outputs": [],
   "source": [
    "import time"
   ]
  },
  {
   "cell_type": "code",
   "execution_count": 12,
   "metadata": {},
   "outputs": [
    {
     "data": {
      "text/plain": [
       "Map(\"{ [i0] -> q[11279 - 11i0] : 1024 <= i0 <= 1025; [i0] -> q[8261 - 10i0] : 825 <= i0 <= 826; [i0] -> q[5413 - 9i0] : 600 <= i0 <= 601; [i0] -> q[4253 - 8i0] : 530 <= i0 <= 531; [i0] -> q[4165 - 6i0] : 693 <= i0 <= 694; [i0] -> q[3908 - 4i0] : 976 <= i0 <= 977; [i0] -> q[3232 - 3i0] : 1075 <= i0 <= 1076; [i0] -> q[2890 - 3i0] : 962 <= i0 <= 963; [i0] -> q[2816 - 3i0] : 936 <= i0 <= 937; [i0] -> q[2721 - 3i0] : 906 <= i0 <= 907; [i0] -> q[2461 - 8i0] : 306 <= i0 <= 307; [i0] -> q[2103 - 2i0] : 1044 <= i0 <= 1045; [i0] -> q[1624 - 8i0] : 202 <= i0 <= 203; [i0] -> q[1605 - 3i0] : 530 <= i0 <= 531; [i0] -> q[1538 - 2i0] : 768 <= i0 <= 769; [i0] -> q[1262 - 7i0] : 179 <= i0 <= 180; [i0] -> q[1214 - 2i0] : 600 <= i0 <= 601; [i0] -> q[1080 - 6i0] : 179 <= i0 <= 180; [i0] -> q[1049 - 3i0] : 345 <= i0 <= 346; [i0] -> q[933 - 3i0] : 306 <= i0 <= 307; [i0] -> q[434 - i0] : 421 <= i0 <= 422; [i0] -> q[287 - 8i0] : 34 <= i0 <= 35; [i0] -> q[159 - i0] : 144 <= i0 <= 145; [i0] -> q[-67 + 2i0] : 34 <= i0 <= 35; [i0] -> q[-201 + i0] : 202 <= i0 <= 203; [i0] -> q[-497 + 3i0] : 166 <= i0 <= 167; [i0] -> q[-505 + i0] : 508 <= i0 <= 509; [i0] -> q[-576 + 4i0] : 144 <= i0 <= 145; [i0] -> q[-925 + i0] : 936 <= i0 <= 937; [i0] -> q[-950 + 5i0] : 190 <= i0 <= 191; [i0] -> q[-962 + i0] : 976 <= i0 <= 977; [i0] -> q[-988 + 6i0] : 166 <= i0 <= 167; [i0] -> q[-1261 + 3i0] : 421 <= i0 <= 422; [i0] -> q[-1328 + 7i0] : 190 <= i0 <= 191; [i0] -> q[-1342 + 6i0] : 224 <= i0 <= 225; [i0] -> q[-1376 + 4i0] : 345 <= i0 <= 346; [i0] -> q[-1513 + 3i0] : 508 <= i0 <= 509; [i0] -> q[-2140 + 2i0] : 1075 <= i0 <= 1076; [i0] -> q[-2194 + 2i0] : 1100 <= i0 <= 1101; [i0] -> q[-2464 + 11i0] : 224 <= i0 <= 225; [i0] -> q[-2711 + 3i0] : 906 <= i0 <= 907; [i0] -> q[-2874 + 3i0] : 962 <= i0 <= 963; [i0] -> q[-3066 + 4i0] : 768 <= i0 <= 769; [i0] -> q[-3455 + 5i0] : 693 <= i0 <= 694; [i0] -> q[-3653 + 4i0] : 916 <= i0 <= 917; [i0] -> q[-4418 + 4i0] : 1107 <= i0 <= 1108; [i0] -> q[-4572 + 5i0] : 916 <= i0 <= 917; [i0] -> q[-5258 + 8i0] : 658 <= i0 <= 659; [i0] -> q[-5767 + 7i0] : 825 <= i0 <= 826; [i0] -> q[-7236 + 11i0] : 658 <= i0 <= 659; [i0] -> q[-9898 + 9i0] : 1100 <= i0 <= 1101; [i0] -> q[-13311 + 13i0] : 1024 <= i0 <= 1025; [i0] -> q[-14391 + 13i0] : 1107 <= i0 <= 1108; [i0] -> q[-14616 + 14i0] : 1044 <= i0 <= 1045; [1134] -> q[15]; [1111] -> q[15]; [1102] -> q[15]; [1079] -> q[15]; [1035] -> q[15]; [986] -> q[15]; [927] -> q[15]; [890] -> q[15]; [855] -> q[15]; [740] -> q[15]; [720] -> q[15]; [706] -> q[15]; [672] -> q[15]; [657] -> q[15]; [626] -> q[15]; [602] -> q[15]; [564] -> q[15]; [537] -> q[15]; [515] -> q[15]; [472] -> q[15]; [419] -> q[15]; [395] -> q[15]; [374] -> q[15]; [363] -> q[15]; [344] -> q[15]; [331] -> q[15]; [320] -> q[15]; [275] -> q[15]; [235] -> q[15]; [212] -> q[15]; [168] -> q[15]; [155] -> q[15]; [133] -> q[15]; [122] -> q[15]; [102] -> q[15]; [67] -> q[15]; [57] -> q[15]; [10] -> q[15]; [1089] -> q[14]; [1034] -> q[14]; [987] -> q[14]; [938] -> q[14]; [898] -> q[14]; [879] -> q[14]; [818] -> q[14]; [804] -> q[14]; [791] -> q[14]; [755] -> q[14]; [673] -> q[14]; [576] -> q[14]; [538] -> q[14]; [463] -> q[14]; [453] -> q[14]; [444] -> q[14]; [432] -> q[14]; [420] -> q[14]; [410] -> q[14]; [398] -> q[14]; [386] -> q[14]; [309] -> q[14]; [297] -> q[14]; [236] -> q[14]; [153] -> q[14]; [135] -> q[14]; [121] -> q[14]; [99] -> q[14]; [21] -> q[14]; [1134] -> q[13]; [1123] -> q[13]; [1079] -> q[13]; [1068] -> q[13]; [1034] -> q[13]; [1013] -> q[13]; [898] -> q[13]; [890] -> q[13]; [855] -> q[13]; [803] -> q[13]; [755] -> q[13]; [640] -> q[13]; [626] -> q[13]; [590] -> q[13]; [576] -> q[13]; [551] -> q[13]; [537] -> q[13]; [515] -> q[13]; [472] -> q[13]; [444] -> q[13]; [432] -> q[13]; [386] -> q[13]; [331] -> q[13]; [320] -> q[13]; [297] -> q[13]; [284] -> q[13]; [272] -> q[13]; [236] -> q[13]; [168] -> q[13]; [146] -> q[13]; [121] -> q[13]; [99] -> q[13]; [67] -> q[13]; [57] -> q[13]; [1122] -> q[12]; [1106] -> q[12]; [1090] -> q[12]; [1054] -> q[12]; [1022] -> q[12]; [926] -> q[12]; [878] -> q[12]; [866] -> q[12]; [846] -> q[12]; [835] -> q[12]; [739] -> q[12]; [732] -> q[12]; [719] -> q[12]; [707] -> q[12]; [695] -> q[12]; [661] -> q[12]; [577] -> q[12]; [565] -> q[12]; [553] -> q[12]; [516] -> q[12]; [498] -> q[12]; [460] -> q[12]; [454] -> q[12]; [376] -> q[12]; [366] -> q[12]; [321] -> q[12]; [285] -> q[12]; [274] -> q[12]; [264] -> q[12]; [237] -> q[12]; [88] -> q[12]; [1110] -> q[11]; [1091] -> q[11]; [1077] -> q[11]; [1053] -> q[11]; [1023] -> q[11]; [1012] -> q[11]; [985] -> q[11]; [928] -> q[11]; [896] -> q[11]; [877] -> q[11]; [836] -> q[11]; [793] -> q[11]; [660] -> q[11]; [628] -> q[11]; [591] -> q[11]; [552] -> q[11]; [540] -> q[11]; [487] -> q[11]; [461] -> q[11]; [442] -> q[11]; [364] -> q[11]; [333] -> q[11]; [308] -> q[11]; [215] -> q[11]; [143] -> q[11]; [90] -> q[11]; [68] -> q[11]; [58] -> q[11]; [23] -> q[11]; [1135] -> q[10]; [1055] -> q[10]; [1033] -> q[10]; [999] -> q[10]; [988] -> q[10]; [935] -> q[10]; [894] -> q[10]; [876] -> q[10]; [865] -> q[10]; [843] -> q[10]; [833] -> q[10]; [790] -> q[10]; [738] -> q[10]; [653] -> q[10]; [641] -> q[10]; [627] -> q[10]; [615] -> q[10]; [539] -> q[10]; [497] -> q[10]; [485] -> q[10]; [475] -> q[10]; [462] -> q[10]; [451] -> q[10]; [411] -> q[10]; [375] -> q[10]; [357] -> q[10]; [332] -> q[10]; [299] -> q[10]; [223] -> q[10]; [214] -> q[10]; [101] -> q[10]; [70] -> q[10]; [59] -> q[10]; [22] -> q[10]; [1109] -> q[9]; [1078] -> q[9]; [1056] -> q[9]; [1046] -> q[9]; [1000] -> q[9]; [897] -> q[9]; [868] -> q[9]; [844] -> q[9]; [805] -> q[9]; [792] -> q[9]; [683] -> q[9]; [518] -> q[9]; [510] -> q[9]; [499] -> q[9]; [473] -> q[9]; [464] -> q[9]; [443] -> q[9]; [385] -> q[9]; [356] -> q[9]; [334] -> q[9]; [287] -> q[9]; [204] -> q[9]; [134] -> q[9]; [112] -> q[9]; [100] -> q[9]; [69] -> q[9]; [46] -> q[9]; [36] -> q[9]; [1091] -> q[8]; [1077] -> q[8]; [1067] -> q[8]; [1053] -> q[8]; [1023] -> q[8]; [928] -> q[8]; [896] -> q[8]; [877] -> q[8]; [845] -> q[8]; [836] -> q[8]; [781] -> q[8]; [660] -> q[8]; [628] -> q[8]; [614] -> q[8]; [591] -> q[8]; [578] -> q[8]; [540] -> q[8]; [474] -> q[8]; [461] -> q[8]; [452] -> q[8]; [396] -> q[8]; [387] -> q[8]; [364] -> q[8]; [333] -> q[8]; [263] -> q[8]; [252] -> q[8]; [215] -> q[8]; [152] -> q[8]; [119] -> q[8]; [87] -> q[8]; [68] -> q[8]; [1133] -> q[7]; [1121] -> q[7]; [1066] -> q[7]; [1043] -> q[7]; [1033] -> q[7]; [999] -> q[7]; [961] -> q[7]; [951] -> q[7]; [935] -> q[7]; [925] -> q[7]; [894] -> q[7]; [889] -> q[7]; [876] -> q[7]; [865] -> q[7]; [833] -> q[7]; [790] -> q[7]; [782] -> q[7]; [741] -> q[7]; [684] -> q[7]; [653] -> q[7]; [615] -> q[7]; [539] -> q[7]; [519] -> q[7]; [485] -> q[7]; [451] -> q[7]; [397] -> q[7]; [377] -> q[7]; [357] -> q[7]; [332] -> q[7]; [322] -> q[7]; [286] -> q[7]; [273] -> q[7]; [223] -> q[7]; [214] -> q[7]; [189] -> q[7]; [154] -> q[7]; [66] -> q[7]; [59] -> q[7]; [11] -> q[7]; [1109] -> q[6]; [1088] -> q[6]; [1052] -> q[6]; [934] -> q[6]; [895] -> q[6]; [844] -> q[6]; [834] -> q[6]; [805] -> q[6]; [792] -> q[6]; [737] -> q[6]; [718] -> q[6]; [692] -> q[6]; [683] -> q[6]; [541] -> q[6]; [518] -> q[6]; [499] -> q[6]; [464] -> q[6]; [441] -> q[6]; [433] -> q[6]; [365] -> q[6]; [356] -> q[6]; [310] -> q[6]; [298] -> q[6]; [287] -> q[6]; [213] -> q[6]; [120] -> q[6]; [112] -> q[6]; [81] -> q[6]; [1106] -> q[5]; [1090] -> q[5]; [1078] -> q[5]; [1056] -> q[5]; [1046] -> q[5]; [1022] -> q[5]; [1000] -> q[5]; [926] -> q[5]; [897] -> q[5]; [878] -> q[5]; [868] -> q[5]; [835] -> q[5]; [739] -> q[5]; [732] -> q[5]; [719] -> q[5]; [707] -> q[5]; [661] -> q[5]; [565] -> q[5]; [553] -> q[5]; [516] -> q[5]; [510] -> q[5]; [473] -> q[5]; [460] -> q[5]; [454] -> q[5]; [443] -> q[5]; [385] -> q[5]; [376] -> q[5]; [334] -> q[5]; [321] -> q[5]; [285] -> q[5]; [274] -> q[5]; [264] -> q[5]; [237] -> q[5]; [204] -> q[5]; [134] -> q[5]; [100] -> q[5]; [69] -> q[5]; [46] -> q[5]; [36] -> q[5]; [1122] -> q[4]; [1089] -> q[4]; [1054] -> q[4]; [987] -> q[4]; [938] -> q[4]; [879] -> q[4]; [866] -> q[4]; [846] -> q[4]; [818] -> q[4]; [804] -> q[4]; [791] -> q[4]; [695] -> q[4]; [673] -> q[4]; [577] -> q[4]; [538] -> q[4]; [498] -> q[4]; [463] -> q[4]; [453] -> q[4]; [420] -> q[4]; [410] -> q[4]; [398] -> q[4]; [366] -> q[4]; [309] -> q[4]; [153] -> q[4]; [135] -> q[4]; [88] -> q[4]; [21] -> q[4]; [1133] -> q[3]; [1121] -> q[3]; [1110] -> q[3]; [1066] -> q[3]; [1043] -> q[3]; [1012] -> q[3]; [985] -> q[3]; [961] -> q[3]; [951] -> q[3]; [925] -> q[3]; [889] -> q[3]; [793] -> q[3]; [782] -> q[3]; [741] -> q[3]; [684] -> q[3]; [552] -> q[3]; [519] -> q[3]; [487] -> q[3]; [442] -> q[3]; [397] -> q[3]; [377] -> q[3]; [322] -> q[3]; [308] -> q[3]; [286] -> q[3]; [273] -> q[3]; [189] -> q[3]; [154] -> q[3]; [143] -> q[3]; [90] -> q[3]; [66] -> q[3]; [58] -> q[3]; [23] -> q[3]; [11] -> q[3]; [1123] -> q[2]; [1088] -> q[2]; [1068] -> q[2]; [1052] -> q[2]; [1013] -> q[2]; [1001] -> q[2]; [934] -> q[2]; [918] -> q[2]; [895] -> q[2]; [888] -> q[2]; [867] -> q[2]; [856] -> q[2]; [834] -> q[2]; [824] -> q[2]; [817] -> q[2]; [803] -> q[2]; [737] -> q[2]; [718] -> q[2]; [692] -> q[2]; [682] -> q[2]; [640] -> q[2]; [590] -> q[2]; [551] -> q[2]; [541] -> q[2]; [517] -> q[2]; [486] -> q[2]; [441] -> q[2]; [433] -> q[2]; [365] -> q[2]; [310] -> q[2]; [298] -> q[2]; [284] -> q[2]; [272] -> q[2]; [262] -> q[2]; [213] -> q[2]; [146] -> q[2]; [120] -> q[2]; [111] -> q[2]; [89] -> q[2]; [81] -> q[2]; [56] -> q[2]; [47] -> q[2]; [1111] -> q[1]; [1067] -> q[1]; [986] -> q[1]; [845] -> q[1]; [781] -> q[1]; [740] -> q[1]; [706] -> q[1]; [614] -> q[1]; [602] -> q[1]; [578] -> q[1]; [564] -> q[1]; [474] -> q[1]; [452] -> q[1]; [396] -> q[1]; [387] -> q[1]; [374] -> q[1]; [363] -> q[1]; [275] -> q[1]; [263] -> q[1]; [252] -> q[1]; [212] -> q[1]; [152] -> q[1]; [133] -> q[1]; [119] -> q[1]; [102] -> q[1]; [87] -> q[1]; [10] -> q[1]; [1135] -> q[0]; [1102] -> q[0]; [1055] -> q[0]; [1035] -> q[0]; [1001] -> q[0]; [988] -> q[0]; [927] -> q[0]; [918] -> q[0]; [888] -> q[0]; [867] -> q[0]; [856] -> q[0]; [843] -> q[0]; [824] -> q[0]; [817] -> q[0]; [738] -> q[0]; [720] -> q[0]; [682] -> q[0]; [672] -> q[0]; [657] -> q[0]; [641] -> q[0]; [627] -> q[0]; [517] -> q[0]; [497] -> q[0]; [486] -> q[0]; [475] -> q[0]; [462] -> q[0]; [419] -> q[0]; [411] -> q[0]; [395] -> q[0]; [375] -> q[0]; [344] -> q[0]; [299] -> q[0]; [262] -> q[0]; [235] -> q[0]; [155] -> q[0]; [122] -> q[0]; [111] -> q[0]; [101] -> q[0]; [89] -> q[0]; [70] -> q[0]; [56] -> q[0]; [47] -> q[0]; [22] -> q[0] }\")"
      ]
     },
     "execution_count": 12,
     "metadata": {},
     "output_type": "execute_result"
    }
   ],
   "source": [
    "programme"
   ]
  },
  {
   "cell_type": "code",
   "execution_count": 13,
   "metadata": {},
   "outputs": [],
   "source": [
    "iteration = 0\n",
    "start = time.time()\n",
    "while not programme.is_empty():\n",
    "    #print(f\"Iteration {iteration}\")\n",
    "    #print(programme.domain())\n",
    "    iteration += 1\n",
    "    programme_mapped = programme.apply_range(mapping)\n",
    "    first_programme_mapped = programme_mapped.lexmin()\n",
    "    second_programme_mapped = programme_mapped.subtract(first_programme_mapped)\n",
    "    programme_access = first_programme_mapped.flat_range_product(second_programme_mapped)\n",
    "    first_disconnected_edge = programme_access.intersect_range(backend_disconnected_edges).domain().lexmin()\n",
    "    if first_disconnected_edge.is_empty():\n",
    "        break\n",
    "\n",
    "    disconected_qubits = programme_mapped.intersect_domain(first_disconnected_edge).range().as_set()\n",
    "    q1 , q2 = disconected_qubits.dim_min_val(0).to_python(),disconected_qubits.dim_max_val(0).to_python()\n",
    "    swap_count += shortest_paths[q1]['costs'][q2] -1\n",
    "    new_domain = programme.domain().as_set().lex_gt_set(first_disconnected_edge.as_set()).domain()\n",
    "    programme = programme.intersect_domain(new_domain).coalesce()\n",
    "    swap_map = swaps_to_isl_map(shortest_paths[q1]['paths'][q2])\n",
    "    mapping = apply_swaps_to_logical_qubits_map(swap_map,mapping,physical_qubits_domain)\n",
    "    \n",
    "\n",
    "end = time.time()\n"
   ]
  },
  {
   "cell_type": "code",
   "execution_count": 14,
   "metadata": {},
   "outputs": [
    {
     "data": {
      "text/plain": [
       "151"
      ]
     },
     "execution_count": 14,
     "metadata": {},
     "output_type": "execute_result"
    }
   ],
   "source": [
    "swap_count"
   ]
  },
  {
   "cell_type": "code",
   "execution_count": 15,
   "metadata": {},
   "outputs": [
    {
     "data": {
      "text/plain": [
       "110"
      ]
     },
     "execution_count": 15,
     "metadata": {},
     "output_type": "execute_result"
    }
   ],
   "source": [
    "iteration"
   ]
  },
  {
   "cell_type": "code",
   "execution_count": 16,
   "metadata": {},
   "outputs": [],
   "source": [
    "results_table = PrettyTable()\n",
    "\n",
    "results_table.field_names = [\"Method\",\"Swap Count\", \"Execution Time (s)\"]\n",
    "results_table.add_row([\"Our solution\", swap_count, end-start])"
   ]
  },
  {
   "cell_type": "markdown",
   "metadata": {},
   "source": [
    "----------------------"
   ]
  },
  {
   "cell_type": "code",
   "execution_count": 17,
   "metadata": {},
   "outputs": [],
   "source": [
    "from qiskit import QuantumCircuit, transpile\n",
    "from qiskit.transpiler import CouplingMap, PassManager ,Layout\n",
    "from qiskit.transpiler.passes import LookaheadSwap, SabreSwap\n",
    "from qiskit_aer import Aer"
   ]
  },
  {
   "cell_type": "code",
   "execution_count": 18,
   "metadata": {},
   "outputs": [],
   "source": [
    "qasm_code = json_file_qasm(json_file_path)\n",
    "qc = QuantumCircuit.from_qasm_str(qasm_code)\n",
    "\n",
    "num_qubits = qc.num_qubits"
   ]
  },
  {
   "cell_type": "code",
   "execution_count": 19,
   "metadata": {},
   "outputs": [],
   "source": [
    "\n",
    "#qc.draw(output='mpl')"
   ]
  },
  {
   "cell_type": "code",
   "execution_count": 20,
   "metadata": {},
   "outputs": [],
   "source": [
    "edges = [(i, j) for i, neighbors in enumerate(graph) for j in neighbors if i < j]\n",
    "\n",
    "\n",
    "coupling_map = CouplingMap(edges)"
   ]
  },
  {
   "cell_type": "code",
   "execution_count": 21,
   "metadata": {},
   "outputs": [],
   "source": [
    "layout_dict = {qc.qubits[i]: i for i in range(num_qubits)}  \n",
    "layout = Layout(layout_dict)"
   ]
  },
  {
   "cell_type": "code",
   "execution_count": 22,
   "metadata": {},
   "outputs": [],
   "source": [
    "pass_manager = PassManager()\n",
    "pass_manager.append(LookaheadSwap(coupling_map))"
   ]
  },
  {
   "cell_type": "code",
   "execution_count": 23,
   "metadata": {},
   "outputs": [
    {
     "data": {
      "text/plain": [
       "OrderedDict([('x', 816), ('cx', 320)])"
      ]
     },
     "execution_count": 23,
     "metadata": {},
     "output_type": "execute_result"
    }
   ],
   "source": [
    "qc.count_ops()"
   ]
  },
  {
   "cell_type": "code",
   "execution_count": 24,
   "metadata": {},
   "outputs": [],
   "source": [
    "start_time = time.time()\n",
    "transpiled_circuit = transpile(qc, coupling_map=coupling_map, initial_layout=layout)\n",
    "optimized_circuit = pass_manager.run(transpiled_circuit)\n",
    "end_time = time.time()"
   ]
  },
  {
   "cell_type": "code",
   "execution_count": 25,
   "metadata": {},
   "outputs": [],
   "source": [
    "swap_count = sum(1 for op in transpiled_circuit.data if op[0].name == 'swap')"
   ]
  },
  {
   "cell_type": "code",
   "execution_count": 26,
   "metadata": {},
   "outputs": [],
   "source": [
    "results_table.add_row([\"LookaheadSwap\", swap_count, end_time-start_time])"
   ]
  },
  {
   "cell_type": "code",
   "execution_count": 27,
   "metadata": {},
   "outputs": [],
   "source": [
    "pass_manager = PassManager()\n",
    "pass_manager.append(SabreSwap(coupling_map))\n",
    "\n",
    "start_time = time.time()\n",
    "transpiled_circuit = transpile(qc, coupling_map=coupling_map, initial_layout=layout)\n",
    "optimized_circuit = pass_manager.run(transpiled_circuit)\n",
    "end_time = time.time()\n",
    "\n",
    "swap_count = sum(1 for op in transpiled_circuit.data if op[0].name == 'swap')\n",
    "\n",
    "results_table.add_row([\"SabreSwap\", swap_count, end_time-start_time])"
   ]
  },
  {
   "cell_type": "code",
   "execution_count": 28,
   "metadata": {},
   "outputs": [],
   "source": [
    "start_time = time.time()\n",
    "transpiled_circuit = transpile(qc, coupling_map=coupling_map, initial_layout=layout,optimization_level=0)\n",
    "end_time = time.time()\n",
    "swap_count = sum(1 for op in transpiled_circuit.data if op[0].name == 'swap')\n",
    "\n",
    "results_table.add_row([\"without optimizer\", swap_count, end_time-start_time])"
   ]
  },
  {
   "cell_type": "code",
   "execution_count": 29,
   "metadata": {},
   "outputs": [
    {
     "name": "stdout",
     "output_type": "stream",
     "text": [
      "+-------------------+------------+---------------------+\n",
      "|       Method      | Swap Count |  Execution Time (s) |\n",
      "+-------------------+------------+---------------------+\n",
      "|    Our solution   |    151     |   38.8696825504303  |\n",
      "|   LookaheadSwap   |     30     |  0.5446712970733643 |\n",
      "|     SabreSwap     |     22     |  0.1252748966217041 |\n",
      "| without optimizer |    128     | 0.07019400596618652 |\n",
      "+-------------------+------------+---------------------+\n"
     ]
    }
   ],
   "source": [
    "print(results_table)"
   ]
  },
  {
   "cell_type": "code",
   "execution_count": null,
   "metadata": {},
   "outputs": [],
   "source": []
  }
 ],
 "metadata": {
  "kernelspec": {
   "display_name": "Python 3",
   "language": "python",
   "name": "python3"
  },
  "language_info": {
   "codemirror_mode": {
    "name": "ipython",
    "version": 3
   },
   "file_extension": ".py",
   "mimetype": "text/x-python",
   "name": "python",
   "nbconvert_exporter": "python",
   "pygments_lexer": "ipython3",
   "version": "3.10.12"
  }
 },
 "nbformat": 4,
 "nbformat_minor": 2
}
