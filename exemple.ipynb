{
 "cells": [
  {
   "cell_type": "code",
   "execution_count": 36,
   "metadata": {},
   "outputs": [],
   "source": [
    "import islpy as isl\n",
    "from src.io_tools import *\n",
    "from src.graph_tools import *\n",
    "from src.swap_tools import *\n",
    "from prettytable import PrettyTable"
   ]
  },
  {
   "cell_type": "code",
   "execution_count": 37,
   "metadata": {},
   "outputs": [],
   "source": [
    "import warnings\n",
    "import logging\n",
    "\n",
    "warnings.filterwarnings(\"ignore\")\n",
    "logging.getLogger('stevedore.extension').setLevel(logging.CRITICAL)\n"
   ]
  },
  {
   "cell_type": "code",
   "execution_count": 38,
   "metadata": {},
   "outputs": [],
   "source": [
    "json_file_path = 'benchmarks/polyhedral/cases/bigd.json'\n",
    "\n",
    "data = json_file_to_isl(json_file_path)"
   ]
  },
  {
   "cell_type": "code",
   "execution_count": 39,
   "metadata": {},
   "outputs": [],
   "source": [
    "\n",
    "domain, access, schedule = filter_multi_qubit_gates(data[\"domain\"], data[\"read_dependencies\"], data[\"schedule\"])\n"
   ]
  },
  {
   "cell_type": "code",
   "execution_count": 40,
   "metadata": {},
   "outputs": [],
   "source": [
    "regex = re.compile(r'(?<=\\[)(.*?)(?=\\])')\n",
    "num_qubits = int(regex.findall(data['read_dependencies'].range().as_set().lexmax().to_str())[0]) + 1"
   ]
  },
  {
   "cell_type": "code",
   "execution_count": 41,
   "metadata": {},
   "outputs": [],
   "source": [
    "physical_qubits_domain = isl.Set(f\"{{ [i] : 1 <= i <= {num_qubits} }}\")"
   ]
  },
  {
   "cell_type": "code",
   "execution_count": 42,
   "metadata": {},
   "outputs": [],
   "source": [
    "# Generate a 2D grid for 200 qubits (10 rows and 20 columns)\n",
    "def generate_2d_grid(num_rows, num_cols):\n",
    "    num_qubits = num_rows * num_cols\n",
    "    graph = [[] for _ in range(num_qubits)]\n",
    "    \n",
    "    for i in range(num_rows):\n",
    "        for j in range(num_cols):\n",
    "            index = i * num_cols + j\n",
    "            # Connect to the left neighbor\n",
    "            if j > 0:\n",
    "                graph[index].append(index - 1)\n",
    "            # Connect to the right neighbor\n",
    "            if j + 1 < num_cols:\n",
    "                graph[index].append(index + 1)\n",
    "            # Connect to the top neighbor\n",
    "            if i > 0:\n",
    "                graph[index].append(index - num_cols)\n",
    "            # Connect to the bottom neighbor\n",
    "            if i + 1 < num_rows:\n",
    "                graph[index].append(index + num_cols)\n",
    "    \n",
    "    return graph\n",
    "\n",
    "num_rows = 4\n",
    "num_cols = 5\n",
    "graph = generate_2d_grid(num_rows, num_cols)\n",
    "\n"
   ]
  },
  {
   "cell_type": "code",
   "execution_count": 43,
   "metadata": {},
   "outputs": [],
   "source": [
    "backend_disconnected_edges =  extract_edges_map(graph)\n",
    "shortest_paths = extract_shortest_paths(graph)"
   ]
  },
  {
   "cell_type": "code",
   "execution_count": 44,
   "metadata": {},
   "outputs": [],
   "source": [
    "initial_mapping = isl.Map(f\"{{ q[i] -> [i] : 1<=i<={num_qubits} }}\")"
   ]
  },
  {
   "cell_type": "code",
   "execution_count": 45,
   "metadata": {},
   "outputs": [],
   "source": [
    "mapping = initial_mapping\n",
    "swap_count = 0\n",
    "programme = schedule\n",
    "intersect_set = isl.Set(\"{ [i, j] : i > j }\")"
   ]
  },
  {
   "cell_type": "code",
   "execution_count": 46,
   "metadata": {},
   "outputs": [],
   "source": [
    "import time"
   ]
  },
  {
   "cell_type": "code",
   "execution_count": 47,
   "metadata": {},
   "outputs": [],
   "source": [
    "iteration = 0\n",
    "start = time.time()\n",
    "while not programme.is_empty():\n",
    "    #print(f\"Iteration {iteration}\")\n",
    "    #print(programme.domain())\n",
    "    iteration += 1\n",
    "    programme_mapped = programme.apply_range(mapping)\n",
    "    programme_access = programme_mapped.flat_range_product(programme_mapped).intersect_range(intersect_set)\n",
    "    first_disconnected_edge = programme_access.intersect_range(backend_disconnected_edges).domain().lexmin()\n",
    "    if first_disconnected_edge.is_empty():\n",
    "        break\n",
    "\n",
    "    disconected_qubits = programme_mapped.intersect_domain(first_disconnected_edge).range().as_set()\n",
    "    q1 , q2 = disconected_qubits.dim_min_val(0).to_python(),disconected_qubits.dim_max_val(0).to_python()\n",
    "    swap_count += shortest_paths[q1]['costs'][q2] -1\n",
    "    new_domain = programme.domain().as_set().lex_gt_set(first_disconnected_edge.as_set()).domain()\n",
    "    programme = programme.intersect_domain(new_domain).coalesce()\n",
    "    swap_map = swaps_to_isl_map(shortest_paths[q1]['paths'][q2])\n",
    "    mapping = apply_swaps_to_logical_qubits_map(swap_map,mapping,physical_qubits_domain)\n",
    "\n",
    "end = time.time()\n"
   ]
  },
  {
   "cell_type": "code",
   "execution_count": 48,
   "metadata": {},
   "outputs": [
    {
     "data": {
      "text/plain": [
       "12"
      ]
     },
     "execution_count": 48,
     "metadata": {},
     "output_type": "execute_result"
    }
   ],
   "source": [
    "swap_count"
   ]
  },
  {
   "cell_type": "code",
   "execution_count": 49,
   "metadata": {},
   "outputs": [
    {
     "data": {
      "text/plain": [
       "5"
      ]
     },
     "execution_count": 49,
     "metadata": {},
     "output_type": "execute_result"
    }
   ],
   "source": [
    "iteration"
   ]
  },
  {
   "cell_type": "code",
   "execution_count": 50,
   "metadata": {},
   "outputs": [],
   "source": [
    "results_table = PrettyTable()\n",
    "\n",
    "results_table.field_names = [\"Method\",\"Swap Count\", \"Execution Time (s)\"]\n",
    "results_table.add_row([\"Our solution\", swap_count, end-start])"
   ]
  },
  {
   "cell_type": "markdown",
   "metadata": {},
   "source": [
    "----------------------"
   ]
  },
  {
   "cell_type": "code",
   "execution_count": 51,
   "metadata": {},
   "outputs": [],
   "source": [
    "from qiskit import QuantumCircuit, transpile\n",
    "from qiskit.transpiler import CouplingMap, PassManager ,Layout\n",
    "from qiskit.transpiler.passes import LookaheadSwap, SabreSwap\n",
    "from qiskit_aer import Aer"
   ]
  },
  {
   "cell_type": "code",
   "execution_count": 52,
   "metadata": {},
   "outputs": [],
   "source": [
    "qasm_code = json_file_qasm(json_file_path)\n",
    "qc = QuantumCircuit.from_qasm_str(qasm_code)\n",
    "\n",
    "num_qubits = qc.num_qubits"
   ]
  },
  {
   "cell_type": "code",
   "execution_count": 53,
   "metadata": {},
   "outputs": [],
   "source": [
    "\n",
    "#qc.draw(output='mpl')"
   ]
  },
  {
   "cell_type": "code",
   "execution_count": 54,
   "metadata": {},
   "outputs": [],
   "source": [
    "edges = [(i, j) for i, neighbors in enumerate(graph) for j in neighbors if i < j]\n",
    "\n",
    "\n",
    "coupling_map = CouplingMap(edges)"
   ]
  },
  {
   "cell_type": "code",
   "execution_count": 55,
   "metadata": {},
   "outputs": [],
   "source": [
    "layout_dict = {qc.qubits[i]: i for i in range(num_qubits)}  \n",
    "layout = Layout(layout_dict)"
   ]
  },
  {
   "cell_type": "code",
   "execution_count": 56,
   "metadata": {},
   "outputs": [],
   "source": [
    "pass_manager = PassManager()\n",
    "pass_manager.append(LookaheadSwap(coupling_map))"
   ]
  },
  {
   "cell_type": "code",
   "execution_count": 57,
   "metadata": {},
   "outputs": [
    {
     "data": {
      "text/plain": [
       "OrderedDict([('x', 15), ('cx', 5)])"
      ]
     },
     "execution_count": 57,
     "metadata": {},
     "output_type": "execute_result"
    }
   ],
   "source": [
    "qc.count_ops()"
   ]
  },
  {
   "cell_type": "code",
   "execution_count": 58,
   "metadata": {},
   "outputs": [],
   "source": [
    "start_time = time.time()\n",
    "transpiled_circuit = transpile(qc, coupling_map=coupling_map, initial_layout=layout)\n",
    "optimized_circuit = pass_manager.run(transpiled_circuit)\n",
    "end_time = time.time()"
   ]
  },
  {
   "cell_type": "code",
   "execution_count": 59,
   "metadata": {},
   "outputs": [],
   "source": [
    "swap_count = sum(1 for op in transpiled_circuit.data if op[0].name == 'swap')"
   ]
  },
  {
   "cell_type": "code",
   "execution_count": 60,
   "metadata": {},
   "outputs": [],
   "source": [
    "results_table.add_row([\"LookaheadSwap\", swap_count, end_time-start_time])"
   ]
  },
  {
   "cell_type": "code",
   "execution_count": 61,
   "metadata": {},
   "outputs": [],
   "source": [
    "pass_manager = PassManager()\n",
    "pass_manager.append(SabreSwap(coupling_map))\n",
    "\n",
    "start_time = time.time()\n",
    "transpiled_circuit = transpile(qc, coupling_map=coupling_map, initial_layout=layout)\n",
    "optimized_circuit = pass_manager.run(transpiled_circuit)\n",
    "end_time = time.time()\n",
    "\n",
    "swap_count = sum(1 for op in transpiled_circuit.data if op[0].name == 'swap')\n",
    "\n",
    "results_table.add_row([\"SabreSwap\", swap_count, end_time-start_time])"
   ]
  },
  {
   "cell_type": "code",
   "execution_count": 62,
   "metadata": {},
   "outputs": [],
   "source": [
    "start_time = time.time()\n",
    "transpiled_circuit = transpile(qc, coupling_map=coupling_map, initial_layout=layout,optimization_level=0)\n",
    "end_time = time.time()\n",
    "swap_count = sum(1 for op in transpiled_circuit.data if op[0].name == 'swap')\n",
    "\n",
    "results_table.add_row([\"without optimizer\", swap_count, end_time-start_time])"
   ]
  },
  {
   "cell_type": "code",
   "execution_count": 63,
   "metadata": {},
   "outputs": [
    {
     "name": "stdout",
     "output_type": "stream",
     "text": [
      "+-------------------+------------+----------------------+\n",
      "|       Method      | Swap Count |  Execution Time (s)  |\n",
      "+-------------------+------------+----------------------+\n",
      "|    Our solution   |     12     | 0.036759138107299805 |\n",
      "|   LookaheadSwap   |     13     |  1.8237488269805908  |\n",
      "|     SabreSwap     |     13     | 0.10666656494140625  |\n",
      "| without optimizer |     12     | 0.06656193733215332  |\n",
      "+-------------------+------------+----------------------+\n"
     ]
    }
   ],
   "source": [
    "print(results_table)"
   ]
  },
  {
   "cell_type": "code",
   "execution_count": null,
   "metadata": {},
   "outputs": [],
   "source": []
  }
 ],
 "metadata": {
  "kernelspec": {
   "display_name": "Python 3",
   "language": "python",
   "name": "python3"
  },
  "language_info": {
   "codemirror_mode": {
    "name": "ipython",
    "version": 3
   },
   "file_extension": ".py",
   "mimetype": "text/x-python",
   "name": "python",
   "nbconvert_exporter": "python",
   "pygments_lexer": "ipython3",
   "version": "3.10.12"
  }
 },
 "nbformat": 4,
 "nbformat_minor": 2
}
