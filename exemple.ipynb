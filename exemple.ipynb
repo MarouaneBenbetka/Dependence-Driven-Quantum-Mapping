{
 "cells": [
  {
   "cell_type": "code",
   "execution_count": 1,
   "metadata": {},
   "outputs": [],
   "source": [
    "import islpy as isl\n",
    "from src.io_tools import *\n",
    "from src.graph_tools import *\n",
    "from src.swap_tools import *"
   ]
  },
  {
   "cell_type": "code",
   "execution_count": 2,
   "metadata": {},
   "outputs": [],
   "source": [
    "json_file_path = 'benchmarks/polyhedral/cases/bigd.json'\n",
    "\n",
    "data = json_file_to_isl(json_file_path)"
   ]
  },
  {
   "cell_type": "code",
   "execution_count": 3,
   "metadata": {},
   "outputs": [],
   "source": [
    "domain = data[\"domain\"]\n",
    "access = data[\"read_dependencies\"]\n",
    "schedule = data[\"schedule\"]\n",
    "qops = data[\"Qops\"]"
   ]
  },
  {
   "cell_type": "code",
   "execution_count": 4,
   "metadata": {},
   "outputs": [],
   "source": [
    "physical_qubits_domain = isl.Set(f\"{{ Q[i] : 1 <= i <= {qops} }}\")"
   ]
  },
  {
   "cell_type": "code",
   "execution_count": 5,
   "metadata": {},
   "outputs": [],
   "source": [
    "# backend\n",
    "\n",
    "graph = defaultdict(list)\n",
    "    \n",
    "graph['Q[1]'] = ['Q[2]', 'Q[6]']\n",
    "graph['Q[2]'] = ['Q[1]', 'Q[3]', 'Q[7]']\n",
    "graph['Q[3]'] = ['Q[2]', 'Q[4]', 'Q[8]']\n",
    "graph['Q[4]'] = ['Q[3]', 'Q[5]', 'Q[9]']\n",
    "graph['Q[5]'] = ['Q[4]', 'Q[10]']\n",
    "graph['Q[6]'] = ['Q[1]', 'Q[7]', 'Q[11]']\n",
    "graph['Q[7]'] = ['Q[2]', 'Q[6]', 'Q[8]', 'Q[12]']\n",
    "graph['Q[8]'] = ['Q[3]', 'Q[7]', 'Q[9]', 'Q[13]']\n",
    "graph['Q[9]'] = ['Q[4]', 'Q[8]', 'Q[10]', 'Q[14]']\n",
    "graph['Q[10]'] = ['Q[5]', 'Q[9]', 'Q[15]']\n",
    "graph['Q[11]'] = ['Q[6]', 'Q[12]', 'Q[16]']\n",
    "graph['Q[12]'] = ['Q[7]', 'Q[11]', 'Q[13]', 'Q[17]']\n",
    "graph['Q[13]'] = ['Q[8]', 'Q[12]', 'Q[14]', 'Q[18]']\n",
    "graph['Q[14]'] = ['Q[9]', 'Q[13]', 'Q[15]', 'Q[19]']\n",
    "graph['Q[15]'] = ['Q[10]', 'Q[14]', 'Q[20]']\n",
    "graph['Q[16]'] = ['Q[11]', 'Q[17]']\n",
    "graph['Q[17]'] = ['Q[12]', 'Q[16]', 'Q[18]']\n",
    "graph['Q[18]'] = ['Q[13]', 'Q[17]', 'Q[19]']\n",
    "graph['Q[19]'] = ['Q[14]', 'Q[18]', 'Q[20]']\n",
    "graph['Q[20]'] = ['Q[15]', 'Q[19]']\n",
    "\n",
    "\n",
    "backend_disconnected_edges =  extract_edges_map(graph)\n",
    "shortest_paths = extract_shortest_paths(graph)"
   ]
  },
  {
   "cell_type": "code",
   "execution_count": 6,
   "metadata": {},
   "outputs": [],
   "source": [
    "initial_mapping = isl.Map(f\"{{ q[i] -> Q[i] : 1<=i<={qops} }}\")"
   ]
  },
  {
   "cell_type": "code",
   "execution_count": 7,
   "metadata": {},
   "outputs": [],
   "source": [
    "programme = schedule.reverse().apply_range(access)"
   ]
  },
  {
   "cell_type": "code",
   "execution_count": 8,
   "metadata": {},
   "outputs": [],
   "source": [
    "mapping = initial_mapping\n",
    "swap_count = 0"
   ]
  },
  {
   "cell_type": "code",
   "execution_count": 9,
   "metadata": {},
   "outputs": [],
   "source": [
    "while not programme.is_empty():\n",
    "    programme_mapped = programme.apply_range(mapping)\n",
    "    programme_access = programme_mapped.flat_range_product(programme_mapped).intersect_range(isl.Set(\"{ [i, j] : i > j }\"))\n",
    "    first_disconnected_edge = programme_access.apply_range(backend_disconnected_edges).domain().lexmin()\n",
    "    if first_disconnected_edge.is_empty():\n",
    "        break\n",
    "\n",
    "    disconected_qubits = programme_mapped.intersect_domain(first_disconnected_edge).range().as_set()\n",
    "    first_qubit , second_qubit = disconected_qubits.lexmin().to_str().replace(\"{\", \"\").replace(\"}\", \"\").strip() , disconected_qubits.lexmax().to_str().replace(\"{\", \"\").replace(\"}\", \"\").strip()\n",
    "    swap_count += shortest_paths[first_qubit]['costs'][second_qubit] -1\n",
    "    new_domain = programme.domain().as_set().lex_ge_set(first_disconnected_edge.as_set()).domain()\n",
    "    programme = programme.intersect_domain(new_domain)\n",
    "    swap_map = swaps_to_isl_map(shortest_paths[first_qubit]['paths'][second_qubit])\n",
    "    mapping = apply_swaps_to_logical_qubits_map(swap_map,mapping,physical_qubits_domain)\n"
   ]
  },
  {
   "cell_type": "code",
   "execution_count": 9,
   "metadata": {},
   "outputs": [
    {
     "data": {
      "text/plain": [
       "0"
      ]
     },
     "execution_count": 9,
     "metadata": {},
     "output_type": "execute_result"
    }
   ],
   "source": [
    "swap_count"
   ]
  }
 ],
 "metadata": {
  "kernelspec": {
   "display_name": "Python 3",
   "language": "python",
   "name": "python3"
  },
  "language_info": {
   "codemirror_mode": {
    "name": "ipython",
    "version": 3
   },
   "file_extension": ".py",
   "mimetype": "text/x-python",
   "name": "python",
   "nbconvert_exporter": "python",
   "pygments_lexer": "ipython3",
   "version": "3.10.12"
  }
 },
 "nbformat": 4,
 "nbformat_minor": 2
}
