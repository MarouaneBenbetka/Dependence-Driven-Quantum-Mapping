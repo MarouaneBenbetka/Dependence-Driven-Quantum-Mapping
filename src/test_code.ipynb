{
 "cells": [
  {
   "cell_type": "code",
   "execution_count": 1,
   "metadata": {},
   "outputs": [],
   "source": [
    "import sys\n",
    "sys.path.append(\"..\")\n",
    "\n",
    "from qiskit.providers.fake_provider import Fake27QPulseV1, Fake5QV1, Fake20QV1\n",
    "from qiskit_ibm_runtime.fake_provider import FakeSherbrooke\n",
    "from src.state_of_the_art.sabre import run_sabre\n",
    "from src.state_of_the_art.cirq import run_cirq,from_backend_to_edges\n",
    "from src.state_of_the_art.pytket import run_pyket\n",
    "from src.state_of_the_art.qmap import run_qmap\n",
    "from src.isl_routing.mapping.routing import POLY_QMAP\n",
    "from src.isl_routing.utils.isl_data_loader import *\n",
    "from src.isl_routing.utils.circuit_utils import *\n",
    "from src.visiualisation.plots import *\n",
    "from time import time\n",
    "import warnings\n",
    "warnings.filterwarnings(\"ignore\")\n"
   ]
  },
  {
   "cell_type": "code",
   "execution_count": 2,
   "metadata": {},
   "outputs": [],
   "source": [
    "edges = FakeSherbrooke().configuration().coupling_map"
   ]
  },
  {
   "cell_type": "code",
   "execution_count": 3,
   "metadata": {},
   "outputs": [],
   "source": [
    "file_path = f\"../benchmarks/polyhedral/queko-bss-16qbt/16QBT_{500}CYC_QSE_{0}.json\"\n",
    "data = json_file_to_isl(file_path) "
   ]
  },
  {
   "cell_type": "code",
   "execution_count": 4,
   "metadata": {},
   "outputs": [
    {
     "data": {
      "text/plain": [
       "{'swap_count': 894, 'circuit_depth': 1354}"
      ]
     },
     "execution_count": 4,
     "metadata": {},
     "output_type": "execute_result"
    }
   ],
   "source": [
    "poly_mapper = POLY_QMAP(edges, data)\n",
    "poly_mapper.run(heuristic_method=\"closure\",initial_mapping_method=\"trivial\")\n",
    "\n",
    "poly_mapper.results[0]"
   ]
  },
  {
   "cell_type": "code",
   "execution_count": 5,
   "metadata": {},
   "outputs": [
    {
     "name": "stdout",
     "output_type": "stream",
     "text": [
      "correct swaps : 894  correct depth:  1354\n"
     ]
    }
   ],
   "source": [
    "print(\"correct swaps :\",poly_mapper.circuit.count_ops().get(\"swap\", 0) ,\" correct depth: \", poly_mapper.circuit.depth())"
   ]
  },
  {
   "cell_type": "code",
   "execution_count": 6,
   "metadata": {},
   "outputs": [
    {
     "name": "stdout",
     "output_type": "stream",
     "text": [
      "swaps : 879\n",
      "depth : 1339\n"
     ]
    }
   ],
   "source": [
    "sabre = run_sabre(data, edges,layout=\"trivial\") \n",
    "\n",
    "\n",
    "print(\"swaps :\",sabre[\"swap_count\"])\n",
    "print(\"depth :\",sabre[\"circuit_depth\"])"
   ]
  },
  {
   "cell_type": "code",
   "execution_count": 7,
   "metadata": {},
   "outputs": [
    {
     "name": "stdout",
     "output_type": "stream",
     "text": [
      "The circuit is directly routable on the backend.\n"
     ]
    }
   ],
   "source": [
    "from qiskit.transpiler import CouplingMap\n",
    "\n",
    "def is_routable(circuit, backend):\n",
    "\n",
    "    coupling_map = backend.configuration().coupling_map\n",
    "    cm = CouplingMap(coupling_map)\n",
    "    \n",
    "    for instr, qargs, _ in circuit.data:\n",
    "        if instr.num_qubits > 1:\n",
    "\n",
    "            q0 = qargs[0]._index\n",
    "            q1 = qargs[1]._index\n",
    "\n",
    "            if cm.distance(q0, q1) != 1:\n",
    "                print(f\"Gate {instr.name} on qubits {q0} and {q1} is not directly supported.\")\n",
    "                return False\n",
    "    return True\n",
    "\n",
    "\n",
    "routable = is_routable(poly_mapper.circuit, FakeSherbrooke())\n",
    "if routable:\n",
    "    print(\"The circuit is directly routable on the backend.\")\n",
    "else:\n",
    "    print(\"The circuit is NOT directly routable on the backend.\")\n"
   ]
  }
 ],
 "metadata": {
  "kernelspec": {
   "display_name": "Python 3",
   "language": "python",
   "name": "python3"
  },
  "language_info": {
   "codemirror_mode": {
    "name": "ipython",
    "version": 3
   },
   "file_extension": ".py",
   "mimetype": "text/x-python",
   "name": "python",
   "nbconvert_exporter": "python",
   "pygments_lexer": "ipython3",
   "version": "3.10.12"
  }
 },
 "nbformat": 4,
 "nbformat_minor": 2
}
