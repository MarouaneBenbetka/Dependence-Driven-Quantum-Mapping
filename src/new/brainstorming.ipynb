{
 "cells": [
  {
   "cell_type": "code",
   "execution_count": 1,
   "metadata": {},
   "outputs": [],
   "source": [
    "import sys\n",
    "sys.path.append(\"..\")\n",
    "\n",
    "# backends\n",
    "from qiskit.providers.fake_provider import Fake27QPulseV1,Fake5QV1,Fake20QV1\n",
    "from qiskit_ibm_runtime.fake_provider import FakeGuadalupeV2\n",
    "\n",
    "\n",
    "# poly_sabre\n",
    "from poly_sabre.poly_circuit_preprocess import *\n",
    "from poly_sabre.poly_circuit_utils import *\n",
    "from poly_sabre.poly_sabre import POLY_SABRE\n",
    "\n",
    "\n",
    "# qiskit\n",
    "from qiskit import QuantumCircuit, transpile\n",
    "from qiskit.transpiler.passes import SabreLayout, SabreSwap\n",
    "from qiskit.transpiler import PassManager\n",
    "from qiskit.transpiler import CouplingMap\n",
    "\n"
   ]
  },
  {
   "cell_type": "code",
   "execution_count": 2,
   "metadata": {},
   "outputs": [],
   "source": [
    "file_path = \"../benchmarks/queko-bss-16qbt/16QBT_100CYC_QSE_0.json\"\n",
    "data = json_file_to_isl(file_path)\n",
    "edges = FakeGuadalupeV2().configuration().coupling_map"
   ]
  },
  {
   "cell_type": "code",
   "execution_count": 3,
   "metadata": {},
   "outputs": [],
   "source": [
    "poly_sabre = POLY_SABRE(edges,data)"
   ]
  },
  {
   "cell_type": "code",
   "execution_count": 4,
   "metadata": {},
   "outputs": [],
   "source": [
    "initial_mapping = poly_sabre.get_initial_mapping()"
   ]
  },
  {
   "cell_type": "code",
   "execution_count": 5,
   "metadata": {},
   "outputs": [
    {
     "name": "stderr",
     "output_type": "stream",
     "text": [
      "Executing Gates: 10it [00:00, 712.42it/s]             \n",
      "Executing Gates: 100%|██████████| 11/11 [00:00<00:00, 205.14it/s]\n",
      "Executing Gates: 100%|██████████| 18/18 [00:00<00:00, 108.13it/s]\n",
      "Executing Gates: 100%|██████████| 20/20 [00:00<00:00, 144.81it/s]\n",
      "Executing Gates: 13it [00:00, 107.30it/s]                        \n",
      "Executing Gates: 12it [00:00, 111.22it/s]              \n",
      "Executing Gates: 100%|██████████| 12/12 [00:00<00:00, 117.17it/s]\n",
      "Executing Gates: 13it [00:00, 157.71it/s]              \n",
      "Executing Gates: 14it [00:00, 147.69it/s]              \n",
      "Executing Gates: 15it [00:00, 90.76it/s]                       \n",
      "Executing Gates: 16it [00:00, 72.34it/s]                        \n",
      "Executing Gates: 10it [00:00, 473.51it/s]             \n",
      "Executing Gates: 100%|██████████| 22/22 [00:00<00:00, 85.45it/s]\n",
      "Executing Gates: 100%|██████████| 18/18 [00:00<00:00, 101.58it/s]\n",
      "Executing Gates: 11it [00:00, 110.59it/s]             \n",
      "Executing Gates: 13it [00:00, 89.23it/s]                       \n",
      "Executing Gates: 11it [00:00, 213.50it/s]             \n",
      "Executing Gates: 100%|██████████| 12/12 [00:00<00:00, 108.63it/s]\n",
      "Executing Gates: 12it [00:00, 100.39it/s]                       \n",
      "Executing Gates: 100%|██████████| 17/17 [00:00<00:00, 92.53it/s]\n",
      "Executing Gates: 15it [00:00, 222.25it/s]              \n",
      "Executing Gates: 9it [00:00, 232.31it/s]              \n",
      "Executing Gates: 16it [00:00, 89.05it/s]                        "
     ]
    },
    {
     "name": "stdout",
     "output_type": "stream",
     "text": [
      "**************************************************\n",
      "total swaps in iteration 0 is  291\n",
      "**************************************************\n"
     ]
    },
    {
     "name": "stderr",
     "output_type": "stream",
     "text": [
      "\n"
     ]
    },
    {
     "data": {
      "text/plain": [
       "291"
      ]
     },
     "execution_count": 5,
     "metadata": {},
     "output_type": "execute_result"
    }
   ],
   "source": [
    "poly_sabre.run(initial_mapping,num_iter=1)"
   ]
  },
  {
   "cell_type": "code",
   "execution_count": 10,
   "metadata": {},
   "outputs": [
    {
     "name": "stdout",
     "output_type": "stream",
     "text": [
      "158\n"
     ]
    }
   ],
   "source": [
    "circuit = QuantumCircuit.from_qasm_str(data[\"qasm_code\"])\n",
    "coupling_map = CouplingMap(edges)\n",
    "\n",
    "sabre_layout = SabreLayout(coupling_map,seed=21)\n",
    "pm_initial_layout = PassManager(sabre_layout)\n",
    "mapped_circuit = pm_initial_layout.run(circuit)\n",
    "\n",
    "sabre_swap = SabreSwap(coupling_map,seed=21)\n",
    "pm_swap = PassManager(sabre_swap)\n",
    "routed_circuit = pm_swap.run(mapped_circuit)\n",
    "\n",
    "swap_count = routed_circuit.count_ops().get('swap', 0)\n",
    "print(swap_count)"
   ]
  },
  {
   "cell_type": "code",
   "execution_count": null,
   "metadata": {},
   "outputs": [],
   "source": [
    "transpiled_circuit = transpile(circuit, coupling_map=edges,seed_transpiler=21, optimization_level=0)\n",
    "sabre_swap_count = transpiled_circuit.count_ops().get('swap',0) \n",
    "print(sabre_swap_count)"
   ]
  }
 ],
 "metadata": {
  "kernelspec": {
   "display_name": "Python 3",
   "language": "python",
   "name": "python3"
  },
  "language_info": {
   "codemirror_mode": {
    "name": "ipython",
    "version": 3
   },
   "file_extension": ".py",
   "mimetype": "text/x-python",
   "name": "python",
   "nbconvert_exporter": "python",
   "pygments_lexer": "ipython3",
   "version": "3.10.12"
  }
 },
 "nbformat": 4,
 "nbformat_minor": 2
}
