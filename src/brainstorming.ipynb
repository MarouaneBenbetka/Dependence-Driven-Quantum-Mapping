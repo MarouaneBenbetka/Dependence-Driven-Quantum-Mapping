{
 "cells": [
  {
   "cell_type": "code",
   "execution_count": 1,
   "metadata": {},
   "outputs": [],
   "source": [
    "import sys\n",
    "sys.path.append(\"..\")\n",
    "\n",
    "from qiskit.providers.fake_provider import Fake27QPulseV1, Fake5QV1, Fake20QV1\n",
    "from qiskit_ibm_runtime.fake_provider import FakeSherbrooke\n",
    "from src.state_of_the_art.sabre import run_sabre\n",
    "from src.state_of_the_art.cirq import run_cirq,from_backend_to_edges\n",
    "from src.state_of_the_art.pytket import run_pyket\n",
    "from src.state_of_the_art.qmap import run_qmap\n",
    "from src.isl_routing.mapping.routing import POLY_QMAP\n",
    "from src.isl_routing.utils.isl_data_loader import *\n",
    "from src.isl_routing.utils.circuit_utils import *\n",
    "from src.visiualisation.plots import *\n",
    "from time import time\n"
   ]
  },
  {
   "cell_type": "code",
   "execution_count": 2,
   "metadata": {},
   "outputs": [],
   "source": [
    "edges = FakeSherbrooke().configuration().coupling_map"
   ]
  },
  {
   "cell_type": "code",
   "execution_count": 3,
   "metadata": {},
   "outputs": [],
   "source": [
    "file_path = f\"../benchmarks/polyhedral/queko-bss-54qbt/54QBT_500CYC_QSE_0.json\"\n",
    "data = json_file_to_isl(file_path)"
   ]
  },
  {
   "cell_type": "code",
   "execution_count": 4,
   "metadata": {},
   "outputs": [],
   "source": [
    "poly_mapper = POLY_QMAP(edges, data)"
   ]
  },
  {
   "cell_type": "code",
   "execution_count": 5,
   "metadata": {},
   "outputs": [
    {
     "name": "stdout",
     "output_type": "stream",
     "text": [
      "dag generation time: 40.32067632675171\n"
     ]
    },
    {
     "name": "stderr",
     "output_type": "stream",
     "text": [
      "                                                                       "
     ]
    },
    {
     "name": "stdout",
     "output_type": "stream",
     "text": [
      "excution time: 58.60330772399902\n"
     ]
    },
    {
     "name": "stderr",
     "output_type": "stream",
     "text": [
      "\r"
     ]
    },
    {
     "data": {
      "text/plain": [
       "{'swap_count': 6631, 'circuit_depth': 3074}"
      ]
     },
     "execution_count": 5,
     "metadata": {},
     "output_type": "execute_result"
    }
   ],
   "source": [
    "poly_mapper.run(heuristic_method=\"closure\",initial_mapping_method=\"trivial\",verbose=1)\n",
    "poly_mapper.results[0]"
   ]
  },
  {
   "cell_type": "code",
   "execution_count": 2,
   "metadata": {},
   "outputs": [],
   "source": [
    "import csv\n",
    "\n",
    "edges = FakeSherbrooke().configuration().coupling_map\n",
    "\n",
    "def run_single_file(file_path,depth):\n",
    "\n",
    "    data = json_file_to_isl(file_path)\n",
    "    \n",
    "    qmap_trivial = run_qmap(data, edges,initial_mapping=\"trivial\")\n",
    "    qmap_default = run_qmap(data, edges)\n",
    "    \n",
    "    swaps_trivial = qmap_trivial[\"swaps\"]\n",
    "    depth_trivial = qmap_trivial[\"depth\"]\n",
    "    \n",
    "    swaps_default = qmap_default[\"swaps\"]\n",
    "    depth_default = qmap_default[\"depth\"]\n",
    "    \n",
    "    return file_path,depth,swaps_trivial,depth_trivial,swaps_default,depth_default\n",
    "    \n",
    "qpt = 16\n",
    "csv_file = f\"../experiment_results/queko-bss-{qpt}qbt/qmap.csv\"\n",
    "os.makedirs(os.path.dirname(csv_file), exist_ok=True)\n",
    "\n",
    "with open(csv_file, \"a\", newline=\"\") as f:\n",
    "    writer = csv.writer(f)\n",
    "    writer.writerow([\"file_path\", \"depth\", \"swaps_trivial\",\"depth_trivial\", \"swaps_default\",\"depth_default\"])\n",
    "    \n",
    "    for i in range(100,1000,100):\n",
    "        for j in range(10):\n",
    "            try:\n",
    "                file_path = f\"../benchmarks/polyhedral/queko-bss-{qpt}qbt/{qpt}QBT_{i}CYC_QSE_{j}.json\"\n",
    "                result = run_single_file(file_path,i)\n",
    "                writer.writerow(result)\n",
    "                f.flush()\n",
    "            except:\n",
    "                pass"
   ]
  }
 ],
 "metadata": {
  "kernelspec": {
   "display_name": "Python 3",
   "language": "python",
   "name": "python3"
  },
  "language_info": {
   "codemirror_mode": {
    "name": "ipython",
    "version": 3
   },
   "file_extension": ".py",
   "mimetype": "text/x-python",
   "name": "python",
   "nbconvert_exporter": "python",
   "pygments_lexer": "ipython3",
   "version": "3.10.12"
  }
 },
 "nbformat": 4,
 "nbformat_minor": 2
}
