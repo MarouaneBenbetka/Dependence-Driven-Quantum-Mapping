{
 "cells": [
  {
   "cell_type": "code",
   "execution_count": 1,
   "metadata": {},
   "outputs": [],
   "source": [
    "import sys\n",
    "sys.path.append(\"..\")\n",
    "\n",
    "# backends\n",
    "from qiskit.providers.fake_provider import Fake27QPulseV1,Fake5QV1,Fake20QV1\n",
    "\n",
    "\n",
    "# poly_sabre\n",
    "from isl_sabre.poly_circuit_preprocess import *\n",
    "from isl_sabre.poly_circuit_utils import *\n",
    "from isl_sabre.poly_sabre import POLY_SABRE\n",
    "\n",
    "\n",
    "# qiskit\n",
    "from qiskit import QuantumCircuit, transpile\n",
    "from qiskit.transpiler.passes import SabreLayout, SabreSwap\n",
    "from qiskit.transpiler import PassManager,CouplingMap\n",
    "from qiskit.converters import circuit_to_dag\n",
    "from qiskit.transpiler.layout import Layout"
   ]
  },
  {
   "cell_type": "code",
   "execution_count": 2,
   "metadata": {},
   "outputs": [],
   "source": [
    "edges = Fake27QPulseV1().configuration().coupling_map"
   ]
  },
  {
   "cell_type": "code",
   "execution_count": 3,
   "metadata": {},
   "outputs": [],
   "source": [
    "file_path = \"../benchmarks/polyhedral/queko-bss-16qbt/16QBT_100CYC_QSE_1.json\"\n",
    "data = json_file_to_isl(file_path)\n"
   ]
  },
  {
   "cell_type": "code",
   "execution_count": 4,
   "metadata": {},
   "outputs": [],
   "source": [
    "def run_sabre(data):\n",
    "    circuit = QuantumCircuit.from_qasm_str(data[\"qasm_code\"])\n",
    "    coupling_map = CouplingMap(edges)\n",
    "\n",
    "    # Step 1: Run SabreLayout to determine the initial layout\n",
    "    sabre_layout = SabreLayout(coupling_map, seed=21)\n",
    "    layout_pass_manager = PassManager(sabre_layout)\n",
    "    layout_applied_circuit = layout_pass_manager.run(circuit)\n",
    "\n",
    "    # Step 2: Run SabreSwap separately to insert swap gates\n",
    "    sabre_swap = SabreSwap(coupling_map, seed=21, heuristic=\"decay\", trials=1)\n",
    "    swap_pass_manager = PassManager(sabre_swap)\n",
    "    optimized_circuit = swap_pass_manager.run(layout_applied_circuit)\n",
    "\n",
    "    # Count the number of swap gates\n",
    "    swap_count = optimized_circuit.count_ops().get(\"swap\", 0)\n",
    "    return swap_count,optimized_circuit"
   ]
  },
  {
   "cell_type": "code",
   "execution_count": 5,
   "metadata": {},
   "outputs": [
    {
     "name": "stdout",
     "output_type": "stream",
     "text": [
      "seed : 21 swap_trials: 6 layout_trials: 6\n",
      "start routing --> sabre_routing\n",
      "end routing --> sabre_routing\n"
     ]
    }
   ],
   "source": [
    "swap_count,optimized_circuit = run_sabre(data)"
   ]
  },
  {
   "cell_type": "code",
   "execution_count": 6,
   "metadata": {},
   "outputs": [
    {
     "data": {
      "text/plain": [
       "OrderedDict([('x', 816), ('cx', 320), ('swap', 104)])"
      ]
     },
     "execution_count": 6,
     "metadata": {},
     "output_type": "execute_result"
    }
   ],
   "source": [
    "optimized_circuit.count_ops()"
   ]
  },
  {
   "cell_type": "code",
   "execution_count": 7,
   "metadata": {},
   "outputs": [],
   "source": [
    "#dag = circuit_to_dag(optimized_circuit)\n",
    "#dag.draw()"
   ]
  },
  {
   "cell_type": "code",
   "execution_count": 8,
   "metadata": {},
   "outputs": [],
   "source": [
    "#optimized_circuit.draw(output='mpl',scale=0.5)"
   ]
  },
  {
   "cell_type": "code",
   "execution_count": 9,
   "metadata": {},
   "outputs": [],
   "source": [
    "data = json_file_to_isl(file_path)\n",
    "poly_sabre = POLY_SABRE(edges,data)"
   ]
  },
  {
   "cell_type": "code",
   "execution_count": 10,
   "metadata": {},
   "outputs": [
    {
     "name": "stdout",
     "output_type": "stream",
     "text": [
      "seed : 21 swap_trials: 6 layout_trials: 6\n"
     ]
    },
    {
     "name": "stderr",
     "output_type": "stream",
     "text": [
      "Executing Gates: 100%|██████████| 320/320 [00:38<00:00,  8.28it/s]\n"
     ]
    },
    {
     "data": {
      "text/plain": [
       "116"
      ]
     },
     "execution_count": 10,
     "metadata": {},
     "output_type": "execute_result"
    }
   ],
   "source": [
    "poly_sabre.run(huristic_method=\"decay\",verbose=1)"
   ]
  },
  {
   "cell_type": "code",
   "execution_count": 11,
   "metadata": {},
   "outputs": [
    {
     "name": "stdout",
     "output_type": "stream",
     "text": [
      "104\n"
     ]
    }
   ],
   "source": [
    "print(swap_count)"
   ]
  },
  {
   "cell_type": "code",
   "execution_count": 12,
   "metadata": {},
   "outputs": [
    {
     "name": "stdout",
     "output_type": "stream",
     "text": [
      "seed : 21 swap_trials: 6 layout_trials: 6\n"
     ]
    },
    {
     "name": "stderr",
     "output_type": "stream",
     "text": [
      "Executing Gates: 100%|██████████| 320/320 [00:19<00:00, 16.38it/s]\n"
     ]
    },
    {
     "data": {
      "text/plain": [
       "117"
      ]
     },
     "execution_count": 12,
     "metadata": {},
     "output_type": "execute_result"
    }
   ],
   "source": [
    "poly_sabre.run(verbose=1)"
   ]
  },
  {
   "cell_type": "code",
   "execution_count": 14,
   "metadata": {},
   "outputs": [
    {
     "name": "stdout",
     "output_type": "stream",
     "text": [
      "seed : 21 swap_trials: 6 layout_trials: 6\n"
     ]
    },
    {
     "name": "stderr",
     "output_type": "stream",
     "text": [
      "Executing Gates: 100%|██████████| 320/320 [00:10<00:00, 31.63it/s]\n"
     ]
    },
    {
     "data": {
      "text/plain": [
       "116"
      ]
     },
     "execution_count": 14,
     "metadata": {},
     "output_type": "execute_result"
    }
   ],
   "source": [
    "poly_sabre.run(huristic_method=\"poly-paths\",verbose=1)"
   ]
  }
 ],
 "metadata": {
  "kernelspec": {
   "display_name": "Python 3",
   "language": "python",
   "name": "python3"
  },
  "language_info": {
   "codemirror_mode": {
    "name": "ipython",
    "version": 3
   },
   "file_extension": ".py",
   "mimetype": "text/x-python",
   "name": "python",
   "nbconvert_exporter": "python",
   "pygments_lexer": "ipython3",
   "version": "3.10.12"
  }
 },
 "nbformat": 4,
 "nbformat_minor": 2
}
