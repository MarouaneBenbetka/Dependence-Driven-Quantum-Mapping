{
 "cells": [
  {
   "cell_type": "code",
   "execution_count": 1,
   "metadata": {},
   "outputs": [],
   "source": [
    "import sys\n",
    "sys.path.append(\"..\")\n",
    "\n",
    "from qiskit.providers.fake_provider import Fake27QPulseV1, Fake5QV1, Fake20QV1,Fake127QPulseV1,GenericBackendV2\n",
    "from qiskit_ibm_runtime.fake_provider import FakeSherbrooke\n",
    "from src.state_of_the_art.sabre import run_sabre\n",
    "from src.state_of_the_art.cirq import run_cirq,Sycamore\n",
    "from src.state_of_the_art.pytket import run_pyket\n",
    "from src.state_of_the_art.qmap import run_qmap\n",
    "from src.state_of_the_art.bqskit import run_bqskit\n",
    "from src.isl_routing.mapping.routing import POLY_QMAP\n",
    "from src.isl_routing.utils.isl_data_loader import *\n",
    "from src.isl_routing.utils.circuit_utils import *\n",
    "from src.visiualisation.plots import *\n",
    "\n",
    "from time import time\n",
    "\n",
    "import warnings\n",
    "warnings.filterwarnings(\"ignore\")\n"
   ]
  },
  {
   "cell_type": "code",
   "execution_count": 5,
   "metadata": {},
   "outputs": [],
   "source": [
    "edges = FakeSherbrooke().configuration().coupling_map\n",
    "num_qubits = FakeSherbrooke().configuration().n_qubits\n",
    "#edges = Sycamore()\n",
    "\n",
    "\n",
    "#backend = load_backend(\"../topologies/Ankaa-3.json\")\n",
    "#edges = backend['coupling_map']"
   ]
  },
  {
   "cell_type": "code",
   "execution_count": 3,
   "metadata": {},
   "outputs": [],
   "source": [
    "file_path = f\"../benchmarks/polyhedral/queko-bss-81qbt/81QBT_100CYC_QSE_0.json\"\n",
    "data = json_file_to_isl(file_path)"
   ]
  },
  {
   "cell_type": "code",
   "execution_count": 6,
   "metadata": {},
   "outputs": [
    {
     "name": "stderr",
     "output_type": "stream",
     "text": [
      "                                                                     \r"
     ]
    },
    {
     "data": {
      "text/plain": [
       "{'swap_count': 3731, 'circuit_depth': 864}"
      ]
     },
     "execution_count": 6,
     "metadata": {},
     "output_type": "execute_result"
    }
   ],
   "source": [
    "poly_mapper = POLY_QMAP(edges, data)\n",
    "poly_mapper.run(heuristic_method=\"closure\",verbose=1,initial_mapping_method=\"trivial\")\n",
    "poly_mapper.results[0]"
   ]
  },
  {
   "cell_type": "code",
   "execution_count": 5,
   "metadata": {},
   "outputs": [
    {
     "name": "stderr",
     "output_type": "stream",
     "text": [
      "                                                                     \r"
     ]
    },
    {
     "data": {
      "text/plain": [
       "{'swap_count': 3731, 'circuit_depth': 864}"
      ]
     },
     "execution_count": 5,
     "metadata": {},
     "output_type": "execute_result"
    }
   ],
   "source": [
    "poly_mapper.run(heuristic_method=\"closure\",verbose=1,no_read_dep=True,initial_mapping_method=\"trivial\")\n",
    "poly_mapper.results[0]"
   ]
  },
  {
   "cell_type": "code",
   "execution_count": 4,
   "metadata": {},
   "outputs": [
    {
     "data": {
      "text/plain": [
       "{'swaps': 48, 'depth': 56, 'cx_count': 0}"
      ]
     },
     "execution_count": 4,
     "metadata": {},
     "output_type": "execute_result"
    }
   ],
   "source": [
    "run_sabre(data,edges,layout=\"trivial\")"
   ]
  },
  {
   "cell_type": "code",
   "execution_count": 5,
   "metadata": {},
   "outputs": [
    {
     "data": {
      "text/plain": [
       "{'swaps': 43, 'depth': 42, 'cx_count': 45}"
      ]
     },
     "execution_count": 5,
     "metadata": {},
     "output_type": "execute_result"
    }
   ],
   "source": [
    "run_cirq(data,edges,initial_mapping=\"trivial\")"
   ]
  },
  {
   "cell_type": "code",
   "execution_count": 6,
   "metadata": {},
   "outputs": [
    {
     "name": "stderr",
     "output_type": "stream",
     "text": [
      "                                                                 \r"
     ]
    },
    {
     "data": {
      "text/plain": [
       "{'swap_count': 40, 'circuit_depth': 46}"
      ]
     },
     "execution_count": 6,
     "metadata": {},
     "output_type": "execute_result"
    }
   ],
   "source": [
    "poly_mapper = POLY_QMAP(edges, data)\n",
    "poly_mapper.run(heuristic_method=\"closure\",verbose=1,initial_mapping_method=\"trivial\")\n",
    "poly_mapper.results[0]"
   ]
  },
  {
   "cell_type": "code",
   "execution_count": 27,
   "metadata": {},
   "outputs": [],
   "source": [
    "run_pyket(data,edges,initial_mapping=\"trivial\")"
   ]
  },
  {
   "cell_type": "code",
   "execution_count": 7,
   "metadata": {},
   "outputs": [
    {
     "data": {
      "text/plain": [
       "{'swaps': 42, 'depth': 80, 'cx_count': 45}"
      ]
     },
     "execution_count": 7,
     "metadata": {},
     "output_type": "execute_result"
    }
   ],
   "source": [
    "run_qmap(data,edges,initial_mapping=\"trivial\")"
   ]
  },
  {
   "cell_type": "code",
   "execution_count": 4,
   "metadata": {},
   "outputs": [],
   "source": [
    "run_qmap(data,edges,initial_mapping=\"trivial\")\n",
    "poly_mapper = POLY_QMAP(edges, data)\n",
    "poly_mapper.run(heuristic_method=\"closure\",verbose=1,initial_mapping_method=\"trivial\")\n",
    "print(poly_mapper.results[0])\n",
    "run_cirq(data,edges,initial_mapping=\"trivial\")\n",
    "run_sabre(data,edges,layout=\"trivial\")"
   ]
  },
  {
   "cell_type": "code",
   "execution_count": 5,
   "metadata": {},
   "outputs": [],
   "source": [
    "import tempfile\n",
    "from bqskit import Circuit, compile, MachineModel\n",
    "from bqskit.ir.gates import SwapGate,CNOTGate, CNOTGate, U3Gate, SwapGate,XGate\n",
    "from bqskit.compiler import GateSet,BasePass,PassData\n"
   ]
  },
  {
   "cell_type": "code",
   "execution_count": 7,
   "metadata": {},
   "outputs": [],
   "source": [
    "qasm_str = data[\"qasm_code\"]\n",
    "with tempfile.NamedTemporaryFile(mode='w', suffix='.qasm', delete=True) as tmp:\n",
    "    tmp.write(qasm_str)\n",
    "    tmp.flush()  \n",
    "    circuit = Circuit.from_file(tmp.name)\n",
    "\n",
    "edges = [tuple(edge) for edge in edges]  \n",
    "gate_set = GateSet([CNOTGate(), XGate(),U3Gate(), SwapGate()])\n",
    "machine = MachineModel(num_qubits, coupling_graph=edges, gate_set=gate_set)\n"
   ]
  },
  {
   "cell_type": "code",
   "execution_count": null,
   "metadata": {},
   "outputs": [],
   "source": [
    "compiled_circuit = compile(\n",
    "        circuit,\n",
    "        machine,\n",
    "        seed=42,\n",
    "        optimization_level=3,\n",
    "    )"
   ]
  },
  {
   "cell_type": "code",
   "execution_count": 9,
   "metadata": {},
   "outputs": [
    {
     "name": "stdout",
     "output_type": "stream",
     "text": [
      "Counter({'XGate': 816, 'CNOTGate': 320})\n",
      "Counter({'U3Gate': 1445, 'CNOTGate': 254, 'SwapGate': 202})\n"
     ]
    }
   ],
   "source": [
    "from collections import Counter\n",
    "gate_counts = Counter(op.gate.name for op in circuit)\n",
    "print(gate_counts)\n",
    "\n",
    "gate_counts = Counter(op.gate.name for op in compiled_circuit)\n",
    "print(gate_counts)"
   ]
  },
  {
   "cell_type": "code",
   "execution_count": 5,
   "metadata": {},
   "outputs": [
    {
     "data": {
      "text/plain": [
       "{'swaps': 179, 'depth': 300, 'cx_count': 320}"
      ]
     },
     "execution_count": 5,
     "metadata": {},
     "output_type": "execute_result"
    }
   ],
   "source": []
  },
  {
   "cell_type": "code",
   "execution_count": 6,
   "metadata": {},
   "outputs": [],
   "source": [
    "run_qmap(data,edges)"
   ]
  },
  {
   "cell_type": "code",
   "execution_count": 4,
   "metadata": {},
   "outputs": [],
   "source": []
  },
  {
   "cell_type": "code",
   "execution_count": 11,
   "metadata": {},
   "outputs": [
    {
     "data": {
      "text/plain": [
       "{'swaps': 125, 'depth': 314}"
      ]
     },
     "execution_count": 11,
     "metadata": {},
     "output_type": "execute_result"
    }
   ],
   "source": []
  },
  {
   "cell_type": "code",
   "execution_count": 12,
   "metadata": {},
   "outputs": [
    {
     "data": {
      "text/plain": [
       "{'swaps': 156, 'depth': 366, 'cx_count': 320}"
      ]
     },
     "execution_count": 12,
     "metadata": {},
     "output_type": "execute_result"
    }
   ],
   "source": [
    "run_cirq(data,edges,initial_mapping=\"trivial\")"
   ]
  },
  {
   "cell_type": "code",
   "execution_count": 13,
   "metadata": {},
   "outputs": [
    {
     "data": {
      "text/plain": [
       "{'swaps': 230, 'depth': 279, 'cx_count': 320}"
      ]
     },
     "execution_count": 13,
     "metadata": {},
     "output_type": "execute_result"
    }
   ],
   "source": [
    "run_qmap(data,edges,initial_mapping=\"trivial\")"
   ]
  },
  {
   "cell_type": "code",
   "execution_count": null,
   "metadata": {},
   "outputs": [],
   "source": [
    "run_bqskit(data,edges,num_qubits)"
   ]
  },
  {
   "cell_type": "code",
   "execution_count": 14,
   "metadata": {},
   "outputs": [
    {
     "data": {
      "text/plain": [
       "{'swaps': 8097, 'depth': 4227, 'cx_count': 5400}"
      ]
     },
     "execution_count": 14,
     "metadata": {},
     "output_type": "execute_result"
    }
   ],
   "source": [
    "run_sabre(data,edges,layout=\"trivial\")"
   ]
  },
  {
   "cell_type": "code",
   "execution_count": 12,
   "metadata": {},
   "outputs": [],
   "source": [
    "#qc.draw(output=\"mpl\")"
   ]
  },
  {
   "cell_type": "code",
   "execution_count": 10,
   "metadata": {},
   "outputs": [
    {
     "data": {
      "text/plain": [
       "298"
      ]
     },
     "execution_count": 10,
     "metadata": {},
     "output_type": "execute_result"
    }
   ],
   "source": [
    "poly_mapper.circuit.depth()"
   ]
  },
  {
   "cell_type": "code",
   "execution_count": 11,
   "metadata": {},
   "outputs": [
    {
     "name": "stdout",
     "output_type": "stream",
     "text": [
      "The circuit is directly routable on the backend.\n"
     ]
    }
   ],
   "source": [
    "from qiskit.transpiler import CouplingMap\n",
    " \n",
    "def is_routable(circuit, coupling_map):\n",
    "    cm = CouplingMap(coupling_map)\n",
    "    for instr, qargs, _ in circuit.data:\n",
    "        if instr.num_qubits > 1:\n",
    "            q0 = qargs[0]._index\n",
    "            q1 = qargs[1]._index\n",
    "            if cm.distance(q0, q1) != 1:\n",
    "                print(f\"Gate {instr.name} on qubits {q0} and {q1} is not directly supported.\")\n",
    "                return False\n",
    " \n",
    "        return True\n",
    " \n",
    "\n",
    "routable = is_routable(poly_mapper.circuit, edges)\n",
    "if routable:\n",
    "    print(\"The circuit is directly routable on the backend.\")\n",
    "else:\n",
    "    print(\"The circuit is NOT directly routable on the backend.\")\n",
    "    "
   ]
  },
  {
   "cell_type": "code",
   "execution_count": 12,
   "metadata": {},
   "outputs": [],
   "source": [
    "#poly_mapper.circuit.draw(output=\"mpl\")"
   ]
  },
  {
   "cell_type": "code",
   "execution_count": 13,
   "metadata": {},
   "outputs": [],
   "source": [
    "from qiskit.visualization import plot_gate_map\n",
    " \n",
    "#plot_gate_map(FakeSherbrooke(),figsize=(8,8))\n",
    "\n"
   ]
  },
  {
   "cell_type": "code",
   "execution_count": 3,
   "metadata": {},
   "outputs": [],
   "source": [
    "file_path = f\"../benchmarks/polyhedral/queko-bss-16qbt/16QBT_100CYC_QSE_0.json\"\n",
    "data = json_file_to_isl(file_path)\n",
    "qasm_str = data[\"qasm_code\"]"
   ]
  },
  {
   "cell_type": "code",
   "execution_count": 14,
   "metadata": {},
   "outputs": [],
   "source": [
    "from qiskit.circuit.library.basis_change.qft import QFT\n",
    "\n",
    "qc = QFT(97,do_swaps=False).decompose()"
   ]
  },
  {
   "cell_type": "code",
   "execution_count": 15,
   "metadata": {},
   "outputs": [
    {
     "data": {
      "text/plain": [
       "OrderedDict([('cp', 4656), ('h', 97)])"
      ]
     },
     "execution_count": 15,
     "metadata": {},
     "output_type": "execute_result"
    }
   ],
   "source": [
    "qc.count_ops()"
   ]
  },
  {
   "cell_type": "code",
   "execution_count": 2,
   "metadata": {},
   "outputs": [],
   "source": [
    "from qiskit.qasm2 import dump, dumps  # Import the new QASM export functions\n",
    "from qiskit.circuit.library.basis_change.qft import QFT\n",
    "\n",
    "for i in range(10,81):\n",
    "    qc = QFT(i,do_swaps=False).decompose()\n",
    "    with open(f'qft/{i}.qasm', 'w') as f:\n",
    "        dump(qc, f)"
   ]
  },
  {
   "cell_type": "code",
   "execution_count": 17,
   "metadata": {},
   "outputs": [],
   "source": []
  }
 ],
 "metadata": {
  "kernelspec": {
   "display_name": "Python 3",
   "language": "python",
   "name": "python3"
  },
  "language_info": {
   "codemirror_mode": {
    "name": "ipython",
    "version": 3
   },
   "file_extension": ".py",
   "mimetype": "text/x-python",
   "name": "python",
   "nbconvert_exporter": "python",
   "pygments_lexer": "ipython3",
   "version": "3.10.12"
  }
 },
 "nbformat": 4,
 "nbformat_minor": 2
}
