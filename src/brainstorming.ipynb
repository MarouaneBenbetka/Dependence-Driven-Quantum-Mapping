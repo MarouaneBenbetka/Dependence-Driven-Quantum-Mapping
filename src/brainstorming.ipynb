{
 "cells": [
  {
   "cell_type": "code",
   "execution_count": 1,
   "metadata": {},
   "outputs": [],
   "source": [
    "import sys\n",
    "sys.path.append(\"..\")\n",
    "\n",
    "from qiskit.providers.fake_provider import Fake27QPulseV1, Fake5QV1, Fake20QV1\n",
    "from src.original_sabre.sabre import run_sabre\n",
    "from src.isl_routing.mapping.routing import POLY_QMAP\n",
    "from src.isl_routing.utils.isl_data_loader import *\n",
    "from src.isl_routing.utils.circuit_utils import *\n",
    "from time import time"
   ]
  },
  {
   "cell_type": "code",
   "execution_count": 2,
   "metadata": {},
   "outputs": [],
   "source": [
    "edges = Fake27QPulseV1().configuration().coupling_map"
   ]
  },
  {
   "cell_type": "code",
   "execution_count": 3,
   "metadata": {},
   "outputs": [],
   "source": [
    "\n",
    "from qiskit_ibm_runtime import QiskitRuntimeService\n",
    "\n",
    "service = QiskitRuntimeService(instance=\"ibm-q/open/main\")\n",
    " \n",
    "backend = service.backend(\"ibm_sherbrooke\")\n",
    "\n",
    "\n",
    "backend_name = backend.name\n",
    "edges = backend.configuration().coupling_map\n"
   ]
  },
  {
   "cell_type": "code",
   "execution_count": 4,
   "metadata": {},
   "outputs": [],
   "source": [
    "file_path = \"../benchmarks/polyhedral/queko-bss-53qbt/53QBT_600CYC_QSE_6.json\"\n",
    "data = json_file_to_isl(file_path)\n"
   ]
  },
  {
   "cell_type": "code",
   "execution_count": 5,
   "metadata": {},
   "outputs": [
    {
     "data": {
      "text/plain": [
       "{'SabreLayout + SingleTrialSWAP': 1727,\n",
       " 'SabreLayout + MultiTrialSWAP': 1363,\n",
       " 'TrivialLayout + SingleTrialSWAP': 5253,\n",
       " 'TrivialLayout + MultiTrialSWAP': 4913}"
      ]
     },
     "execution_count": 5,
     "metadata": {},
     "output_type": "execute_result"
    }
   ],
   "source": [
    "run_sabre(data, edges)  "
   ]
  },
  {
   "cell_type": "code",
   "execution_count": 6,
   "metadata": {},
   "outputs": [],
   "source": [
    "poly_mapper = POLY_QMAP(edges, data)"
   ]
  },
  {
   "cell_type": "code",
   "execution_count": 8,
   "metadata": {},
   "outputs": [
    {
     "name": "stderr",
     "output_type": "stream",
     "text": [
      "Executing Gates: 100%|██████████| 6361/6361 [00:37<00:00, 171.25it/s]\n"
     ]
    },
    {
     "data": {
      "text/plain": [
       "6338"
      ]
     },
     "execution_count": 8,
     "metadata": {},
     "output_type": "execute_result"
    }
   ],
   "source": [
    "poly_mapper.run(heuristic_method=\"decay\",initial_mapping_method=\"trivial\",verbose=1)"
   ]
  },
  {
   "cell_type": "code",
   "execution_count": 9,
   "metadata": {},
   "outputs": [
    {
     "name": "stderr",
     "output_type": "stream",
     "text": [
      "Executing Gates: 100%|██████████| 6361/6361 [00:29<00:00, 213.46it/s]\n"
     ]
    },
    {
     "data": {
      "text/plain": [
       "5101"
      ]
     },
     "execution_count": 9,
     "metadata": {},
     "output_type": "execute_result"
    }
   ],
   "source": [
    "poly_mapper.run(heuristic_method=\"more_excuted\",initial_mapping_method=\"trivial\",verbose=1)"
   ]
  },
  {
   "cell_type": "code",
   "execution_count": null,
   "metadata": {},
   "outputs": [],
   "source": [
    "poly_mapper.run(heuristic_method=\"single-decay\",initial_mapping_method=\"trivial\",verbose=1)"
   ]
  },
  {
   "cell_type": "code",
   "execution_count": 14,
   "metadata": {},
   "outputs": [
    {
     "data": {
      "text/plain": [
       "159"
      ]
     },
     "execution_count": 14,
     "metadata": {},
     "output_type": "execute_result"
    }
   ],
   "source": [
    "#poly_mapper.run(heuristic_method=\"lookahead\",initial_mapping_method=\"trivial\")"
   ]
  },
  {
   "cell_type": "code",
   "execution_count": 15,
   "metadata": {},
   "outputs": [
    {
     "data": {
      "text/plain": [
       "130"
      ]
     },
     "execution_count": 15,
     "metadata": {},
     "output_type": "execute_result"
    }
   ],
   "source": [
    "poly_mapper.run(heuristic_method=\"max_focus\",initial_mapping_method=\"trivial\")"
   ]
  },
  {
   "cell_type": "code",
   "execution_count": 12,
   "metadata": {},
   "outputs": [
    {
     "data": {
      "text/plain": [
       "2572"
      ]
     },
     "execution_count": 12,
     "metadata": {},
     "output_type": "execute_result"
    }
   ],
   "source": []
  },
  {
   "cell_type": "code",
   "execution_count": 114,
   "metadata": {},
   "outputs": [
    {
     "data": {
      "text/plain": [
       "120"
      ]
     },
     "execution_count": 114,
     "metadata": {},
     "output_type": "execute_result"
    }
   ],
   "source": [
    "poly_mapper.run()"
   ]
  },
  {
   "cell_type": "code",
   "execution_count": 118,
   "metadata": {},
   "outputs": [],
   "source": [
    "results = {\n",
    "    \"multi_isl\": [],\n",
    "    \"decay\": [],\n",
    "    \"more_excuted\": [],\n",
    "    \"single-decay\": [],\n",
    "    \"max_focus\": [],\n",
    "    \"sabre_single\": [],\n",
    "    \"sabre_multi\": []\n",
    "}"
   ]
  },
  {
   "cell_type": "code",
   "execution_count": 123,
   "metadata": {},
   "outputs": [
    {
     "name": "stderr",
     "output_type": "stream",
     "text": [
      "                                                                      \r"
     ]
    }
   ],
   "source": [
    "from tqdm import tqdm\n",
    "for i in range(800, 1000, 100):\n",
    "    for j in tqdm(range(10), desc=f\"Processing QSE {i}CYC\", leave=False):\n",
    "        file_path = f\"../benchmarks/polyhedral/queko-bss-16qbt/16QBT_{i}CYC_QSE_{j}.json\"\n",
    "        data = json_file_to_isl(file_path)   \n",
    "        poly_mapper = POLY_QMAP(edges, data)\n",
    "\n",
    "        \n",
    "        d = poly_mapper.run(heuristic_method=\"decay\")\n",
    "        results[\"decay\"].append(d)\n",
    "        m = poly_mapper.run(heuristic_method=\"more_excuted\")\n",
    "        results[\"more_excuted\"].append(m)\n",
    "        s = poly_mapper.run(heuristic_method=\"single-decay\")\n",
    "        results[\"single-decay\"].append(s)\n",
    "        f = poly_mapper.run(heuristic_method=\"max_focus\")\n",
    "        results[\"max_focus\"].append(f)\n",
    "        \n",
    "        results[\"multi_isl\"].append(min(d,m,s,f))\n",
    "\n",
    "        sabre_single, sabre_multi = run_sabre(data, edges)\n",
    "        results[\"sabre_single\"].append(sabre_single)\n",
    "        results[\"sabre_multi\"].append(sabre_multi)\n"
   ]
  },
  {
   "cell_type": "markdown",
   "metadata": {},
   "source": [
    "-------------------------"
   ]
  },
  {
   "cell_type": "code",
   "execution_count": 132,
   "metadata": {},
   "outputs": [
    {
     "name": "stdout",
     "output_type": "stream",
     "text": [
      "our solution better: 55 times (62.50%)\n",
      "sabre multi better: 29 times (32.95%)\n",
      "Equal performance: 4 times (4.55%)\n"
     ]
    }
   ],
   "source": [
    "multi_better = 0\n",
    "sabre_better = 0\n",
    "equal = 0\n",
    "total = len(results[\"multi_isl\"])  # Total number of trials\n",
    "\n",
    "for multi, sabre in zip(results[\"multi_isl\"], results[\"sabre_multi\"]):\n",
    "    if multi < sabre:\n",
    "        multi_better += 1\n",
    "    elif sabre < multi:\n",
    "        sabre_better += 1\n",
    "    else:\n",
    "        equal += 1\n",
    "\n",
    "# Calculate percentages\n",
    "multi_percentage = (multi_better / total) * 100 if total > 0 else 0\n",
    "sabre_percentage = (sabre_better / total) * 100 if total > 0 else 0\n",
    "equal_percentage = (equal / total) * 100 if total > 0 else 0\n",
    "\n",
    "print(f\"our solution better: {multi_better} times ({multi_percentage:.2f}%)\")\n",
    "print(f\"sabre multi better: {sabre_better} times ({sabre_percentage:.2f}%)\")\n",
    "print(f\"Equal performance: {equal} times ({equal_percentage:.2f}%)\")\n"
   ]
  },
  {
   "cell_type": "code",
   "execution_count": 128,
   "metadata": {},
   "outputs": [
    {
     "data": {
      "application/vnd.plotly.v1+json": {
       "config": {
        "plotlyServerURL": "https://plot.ly"
       },
       "data": [
        {
         "mode": "lines+markers",
         "name": "multi_isl",
         "type": "scatter",
         "visible": true,
         "x": [
          0,
          1,
          2,
          3,
          4,
          5,
          6,
          7,
          8,
          9,
          10,
          11,
          12,
          13,
          14,
          15,
          16,
          17,
          18,
          19,
          20,
          21,
          22,
          23,
          24,
          25,
          26,
          27,
          28,
          29,
          30,
          31,
          32,
          33,
          34,
          35,
          36,
          37,
          38,
          39
         ],
         "y": [
          131,
          120,
          112,
          119,
          120,
          107,
          132,
          109,
          110,
          133,
          220,
          210,
          222,
          269,
          200,
          278,
          231,
          310,
          244,
          211,
          290,
          367,
          330,
          334,
          382,
          337,
          327,
          374,
          305,
          352,
          466,
          441,
          434,
          449,
          408,
          456,
          456,
          462,
          414,
          495,
          552,
          525,
          532,
          693,
          557,
          562,
          563,
          564,
          513,
          565,
          647,
          637,
          633,
          650,
          660,
          681,
          646,
          648,
          684,
          639,
          755,
          809,
          803,
          789,
          888,
          859,
          737,
          787,
          921,
          904,
          899,
          908,
          909,
          876,
          941,
          889,
          837,
          910,
          1025,
          1007,
          1039,
          951,
          1094,
          1048,
          1014,
          1035,
          1077,
          1083
         ]
        },
        {
         "mode": "lines+markers",
         "name": "decay",
         "type": "scatter",
         "visible": true,
         "x": [
          0,
          1,
          2,
          3,
          4,
          5,
          6,
          7,
          8,
          9,
          10,
          11,
          12,
          13,
          14,
          15,
          16,
          17,
          18,
          19,
          20,
          21,
          22,
          23,
          24,
          25,
          26,
          27,
          28,
          29,
          30,
          31,
          32,
          33,
          34,
          35,
          36,
          37,
          38,
          39
         ],
         "y": [
          137,
          124,
          112,
          125,
          120,
          109,
          133,
          112,
          110,
          147,
          221,
          228,
          226,
          269,
          200,
          278,
          239,
          310,
          248,
          224,
          290,
          401,
          330,
          355,
          385,
          345,
          327,
          379,
          305,
          375,
          500,
          441,
          434,
          452,
          444,
          463,
          466,
          466,
          414,
          546,
          594,
          525,
          532,
          693,
          557,
          562,
          572,
          566,
          514,
          565,
          680,
          638,
          668,
          773,
          660,
          681,
          646,
          658,
          716,
          639,
          755,
          784,
          755,
          811,
          883,
          801,
          950,
          880,
          737,
          1133,
          921,
          918,
          899,
          908,
          909,
          896,
          1066,
          889,
          843,
          946,
          1043,
          1090,
          1117,
          951,
          1101,
          1074,
          1149,
          1063,
          1077,
          1092
         ]
        },
        {
         "mode": "lines+markers",
         "name": "more_excuted",
         "type": "scatter",
         "visible": true,
         "x": [
          0,
          1,
          2,
          3,
          4,
          5,
          6,
          7,
          8,
          9,
          10,
          11,
          12,
          13,
          14,
          15,
          16,
          17,
          18,
          19,
          20,
          21,
          22,
          23,
          24,
          25,
          26,
          27,
          28,
          29,
          30,
          31,
          32,
          33,
          34,
          35,
          36,
          37,
          38,
          39
         ],
         "y": [
          131,
          120,
          120,
          133,
          124,
          127,
          132,
          109,
          112,
          141,
          220,
          210,
          235,
          396,
          227,
          279,
          231,
          329,
          250,
          211,
          329,
          403,
          339,
          341,
          382,
          337,
          394,
          391,
          334,
          384,
          514,
          448,
          439,
          470,
          408,
          456,
          456,
          484,
          440,
          557,
          599,
          527,
          534,
          733,
          567,
          564,
          568,
          564,
          513,
          574,
          684,
          664,
          633,
          650,
          724,
          789,
          673,
          662,
          686,
          660,
          761,
          788,
          837,
          807,
          789,
          889,
          863,
          777,
          787,
          937,
          911,
          899,
          951,
          990,
          920,
          970,
          896,
          999,
          910,
          1090,
          1133,
          1102,
          971,
          1114,
          1048,
          1014,
          1035,
          1086,
          1085
         ]
        },
        {
         "mode": "lines+markers",
         "name": "single-decay",
         "type": "scatter",
         "visible": true,
         "x": [
          0,
          1,
          2,
          3,
          4,
          5,
          6,
          7,
          8,
          9,
          10,
          11,
          12,
          13,
          14,
          15,
          16,
          17,
          18,
          19,
          20,
          21,
          22,
          23,
          24,
          25,
          26,
          27,
          28,
          29,
          30,
          31,
          32,
          33,
          34,
          35,
          36,
          37,
          38,
          39
         ],
         "y": [
          132,
          125,
          130,
          119,
          126,
          109,
          140,
          115,
          114,
          133,
          246,
          277,
          222,
          311,
          229,
          305,
          234,
          374,
          265,
          249,
          307,
          369,
          347,
          345,
          451,
          349,
          348,
          445,
          321,
          373,
          505,
          467,
          445,
          462,
          454,
          470,
          461,
          475,
          420,
          570,
          594,
          541,
          534,
          807,
          571,
          582,
          563,
          569,
          554,
          585,
          682,
          664,
          685,
          683,
          685,
          838,
          658,
          648,
          684,
          675,
          755,
          839,
          928,
          826,
          905,
          953,
          799,
          807,
          974,
          963,
          910,
          992,
          950,
          914,
          976,
          899,
          838,
          912,
          1142,
          1026,
          1187,
          996,
          1094,
          1058,
          1030,
          1061,
          1177,
          1083
         ]
        },
        {
         "mode": "lines+markers",
         "name": "max_focus",
         "type": "scatter",
         "visible": true,
         "x": [
          0,
          1,
          2,
          3,
          4,
          5,
          6,
          7,
          8,
          9,
          10,
          11,
          12,
          13,
          14,
          15,
          16,
          17,
          18,
          19,
          20,
          21,
          22,
          23,
          24,
          25,
          26,
          27,
          28,
          29,
          30,
          31,
          32,
          33,
          34,
          35,
          36,
          37,
          38,
          39
         ],
         "y": [
          137,
          120,
          122,
          125,
          120,
          107,
          138,
          111,
          110,
          134,
          221,
          219,
          288,
          329,
          238,
          296,
          237,
          335,
          244,
          215,
          318,
          367,
          335,
          334,
          392,
          350,
          334,
          374,
          314,
          352,
          466,
          448,
          444,
          449,
          430,
          467,
          479,
          462,
          432,
          495,
          552,
          539,
          612,
          727,
          573,
          611,
          587,
          573,
          537,
          590,
          647,
          637,
          639,
          733,
          692,
          774,
          661,
          676,
          843,
          666,
          812,
          809,
          803,
          801,
          888,
          859,
          937,
          802,
          926,
          904,
          912,
          1138,
          1041,
          876,
          941,
          909,
          837,
          924,
          1025,
          1007,
          1039,
          956,
          1135,
          1132,
          1057,
          1040,
          1102,
          1112
         ]
        },
        {
         "mode": "lines+markers",
         "name": "sabre_single",
         "type": "scatter",
         "visible": true,
         "x": [
          0,
          1,
          2,
          3,
          4,
          5,
          6,
          7,
          8,
          9,
          10,
          11,
          12,
          13,
          14,
          15,
          16,
          17,
          18,
          19,
          20,
          21,
          22,
          23,
          24,
          25,
          26,
          27,
          28,
          29,
          30,
          31,
          32,
          33,
          34,
          35,
          36,
          37,
          38,
          39
         ],
         "y": [
          139,
          122,
          102,
          123,
          120,
          113,
          129,
          119,
          117,
          142,
          220,
          220,
          231,
          287,
          213,
          281,
          263,
          303,
          233,
          215,
          319,
          373,
          342,
          368,
          398,
          354,
          364,
          419,
          351,
          380,
          469,
          458,
          468,
          462,
          427,
          487,
          465,
          486,
          413,
          551,
          557,
          570,
          588,
          715,
          599,
          574,
          588,
          574,
          583,
          582,
          673,
          748,
          693,
          669,
          686,
          702,
          696,
          695,
          675,
          651,
          810,
          903,
          827,
          851,
          822,
          910,
          770,
          805,
          1083,
          983,
          896,
          941,
          976,
          960,
          1009,
          981,
          922,
          920,
          1116,
          1003,
          1189,
          1006,
          1109,
          1082,
          1091,
          1106,
          1138,
          1043
         ]
        },
        {
         "mode": "lines+markers",
         "name": "sabre_multi",
         "type": "scatter",
         "visible": true,
         "x": [
          0,
          1,
          2,
          3,
          4,
          5,
          6,
          7,
          8,
          9,
          10,
          11,
          12,
          13,
          14,
          15,
          16,
          17,
          18,
          19,
          20,
          21,
          22,
          23,
          24,
          25,
          26,
          27,
          28,
          29,
          30,
          31,
          32,
          33,
          34,
          35,
          36,
          37,
          38,
          39
         ],
         "y": [
          137,
          115,
          96,
          120,
          117,
          107,
          129,
          114,
          114,
          134,
          220,
          220,
          205,
          273,
          213,
          268,
          236,
          287,
          231,
          215,
          311,
          367,
          316,
          356,
          373,
          341,
          351,
          366,
          338,
          380,
          469,
          438,
          448,
          450,
          427,
          465,
          465,
          465,
          413,
          532,
          557,
          554,
          540,
          703,
          574,
          562,
          535,
          542,
          531,
          582,
          669,
          639,
          647,
          646,
          667,
          673,
          679,
          695,
          675,
          649,
          809,
          830,
          800,
          829,
          792,
          847,
          770,
          792,
          949,
          913,
          896,
          901,
          889,
          926,
          939,
          955,
          860,
          920,
          1048,
          992,
          1044,
          973,
          1083,
          1078,
          1078,
          1049,
          1073,
          1043
         ]
        }
       ],
       "layout": {
        "template": {
         "data": {
          "bar": [
           {
            "error_x": {
             "color": "#2a3f5f"
            },
            "error_y": {
             "color": "#2a3f5f"
            },
            "marker": {
             "line": {
              "color": "#E5ECF6",
              "width": 0.5
             },
             "pattern": {
              "fillmode": "overlay",
              "size": 10,
              "solidity": 0.2
             }
            },
            "type": "bar"
           }
          ],
          "barpolar": [
           {
            "marker": {
             "line": {
              "color": "#E5ECF6",
              "width": 0.5
             },
             "pattern": {
              "fillmode": "overlay",
              "size": 10,
              "solidity": 0.2
             }
            },
            "type": "barpolar"
           }
          ],
          "carpet": [
           {
            "aaxis": {
             "endlinecolor": "#2a3f5f",
             "gridcolor": "white",
             "linecolor": "white",
             "minorgridcolor": "white",
             "startlinecolor": "#2a3f5f"
            },
            "baxis": {
             "endlinecolor": "#2a3f5f",
             "gridcolor": "white",
             "linecolor": "white",
             "minorgridcolor": "white",
             "startlinecolor": "#2a3f5f"
            },
            "type": "carpet"
           }
          ],
          "choropleth": [
           {
            "colorbar": {
             "outlinewidth": 0,
             "ticks": ""
            },
            "type": "choropleth"
           }
          ],
          "contour": [
           {
            "colorbar": {
             "outlinewidth": 0,
             "ticks": ""
            },
            "colorscale": [
             [
              0,
              "#0d0887"
             ],
             [
              0.1111111111111111,
              "#46039f"
             ],
             [
              0.2222222222222222,
              "#7201a8"
             ],
             [
              0.3333333333333333,
              "#9c179e"
             ],
             [
              0.4444444444444444,
              "#bd3786"
             ],
             [
              0.5555555555555556,
              "#d8576b"
             ],
             [
              0.6666666666666666,
              "#ed7953"
             ],
             [
              0.7777777777777778,
              "#fb9f3a"
             ],
             [
              0.8888888888888888,
              "#fdca26"
             ],
             [
              1,
              "#f0f921"
             ]
            ],
            "type": "contour"
           }
          ],
          "contourcarpet": [
           {
            "colorbar": {
             "outlinewidth": 0,
             "ticks": ""
            },
            "type": "contourcarpet"
           }
          ],
          "heatmap": [
           {
            "colorbar": {
             "outlinewidth": 0,
             "ticks": ""
            },
            "colorscale": [
             [
              0,
              "#0d0887"
             ],
             [
              0.1111111111111111,
              "#46039f"
             ],
             [
              0.2222222222222222,
              "#7201a8"
             ],
             [
              0.3333333333333333,
              "#9c179e"
             ],
             [
              0.4444444444444444,
              "#bd3786"
             ],
             [
              0.5555555555555556,
              "#d8576b"
             ],
             [
              0.6666666666666666,
              "#ed7953"
             ],
             [
              0.7777777777777778,
              "#fb9f3a"
             ],
             [
              0.8888888888888888,
              "#fdca26"
             ],
             [
              1,
              "#f0f921"
             ]
            ],
            "type": "heatmap"
           }
          ],
          "heatmapgl": [
           {
            "colorbar": {
             "outlinewidth": 0,
             "ticks": ""
            },
            "colorscale": [
             [
              0,
              "#0d0887"
             ],
             [
              0.1111111111111111,
              "#46039f"
             ],
             [
              0.2222222222222222,
              "#7201a8"
             ],
             [
              0.3333333333333333,
              "#9c179e"
             ],
             [
              0.4444444444444444,
              "#bd3786"
             ],
             [
              0.5555555555555556,
              "#d8576b"
             ],
             [
              0.6666666666666666,
              "#ed7953"
             ],
             [
              0.7777777777777778,
              "#fb9f3a"
             ],
             [
              0.8888888888888888,
              "#fdca26"
             ],
             [
              1,
              "#f0f921"
             ]
            ],
            "type": "heatmapgl"
           }
          ],
          "histogram": [
           {
            "marker": {
             "pattern": {
              "fillmode": "overlay",
              "size": 10,
              "solidity": 0.2
             }
            },
            "type": "histogram"
           }
          ],
          "histogram2d": [
           {
            "colorbar": {
             "outlinewidth": 0,
             "ticks": ""
            },
            "colorscale": [
             [
              0,
              "#0d0887"
             ],
             [
              0.1111111111111111,
              "#46039f"
             ],
             [
              0.2222222222222222,
              "#7201a8"
             ],
             [
              0.3333333333333333,
              "#9c179e"
             ],
             [
              0.4444444444444444,
              "#bd3786"
             ],
             [
              0.5555555555555556,
              "#d8576b"
             ],
             [
              0.6666666666666666,
              "#ed7953"
             ],
             [
              0.7777777777777778,
              "#fb9f3a"
             ],
             [
              0.8888888888888888,
              "#fdca26"
             ],
             [
              1,
              "#f0f921"
             ]
            ],
            "type": "histogram2d"
           }
          ],
          "histogram2dcontour": [
           {
            "colorbar": {
             "outlinewidth": 0,
             "ticks": ""
            },
            "colorscale": [
             [
              0,
              "#0d0887"
             ],
             [
              0.1111111111111111,
              "#46039f"
             ],
             [
              0.2222222222222222,
              "#7201a8"
             ],
             [
              0.3333333333333333,
              "#9c179e"
             ],
             [
              0.4444444444444444,
              "#bd3786"
             ],
             [
              0.5555555555555556,
              "#d8576b"
             ],
             [
              0.6666666666666666,
              "#ed7953"
             ],
             [
              0.7777777777777778,
              "#fb9f3a"
             ],
             [
              0.8888888888888888,
              "#fdca26"
             ],
             [
              1,
              "#f0f921"
             ]
            ],
            "type": "histogram2dcontour"
           }
          ],
          "mesh3d": [
           {
            "colorbar": {
             "outlinewidth": 0,
             "ticks": ""
            },
            "type": "mesh3d"
           }
          ],
          "parcoords": [
           {
            "line": {
             "colorbar": {
              "outlinewidth": 0,
              "ticks": ""
             }
            },
            "type": "parcoords"
           }
          ],
          "pie": [
           {
            "automargin": true,
            "type": "pie"
           }
          ],
          "scatter": [
           {
            "fillpattern": {
             "fillmode": "overlay",
             "size": 10,
             "solidity": 0.2
            },
            "type": "scatter"
           }
          ],
          "scatter3d": [
           {
            "line": {
             "colorbar": {
              "outlinewidth": 0,
              "ticks": ""
             }
            },
            "marker": {
             "colorbar": {
              "outlinewidth": 0,
              "ticks": ""
             }
            },
            "type": "scatter3d"
           }
          ],
          "scattercarpet": [
           {
            "marker": {
             "colorbar": {
              "outlinewidth": 0,
              "ticks": ""
             }
            },
            "type": "scattercarpet"
           }
          ],
          "scattergeo": [
           {
            "marker": {
             "colorbar": {
              "outlinewidth": 0,
              "ticks": ""
             }
            },
            "type": "scattergeo"
           }
          ],
          "scattergl": [
           {
            "marker": {
             "colorbar": {
              "outlinewidth": 0,
              "ticks": ""
             }
            },
            "type": "scattergl"
           }
          ],
          "scattermapbox": [
           {
            "marker": {
             "colorbar": {
              "outlinewidth": 0,
              "ticks": ""
             }
            },
            "type": "scattermapbox"
           }
          ],
          "scatterpolar": [
           {
            "marker": {
             "colorbar": {
              "outlinewidth": 0,
              "ticks": ""
             }
            },
            "type": "scatterpolar"
           }
          ],
          "scatterpolargl": [
           {
            "marker": {
             "colorbar": {
              "outlinewidth": 0,
              "ticks": ""
             }
            },
            "type": "scatterpolargl"
           }
          ],
          "scatterternary": [
           {
            "marker": {
             "colorbar": {
              "outlinewidth": 0,
              "ticks": ""
             }
            },
            "type": "scatterternary"
           }
          ],
          "surface": [
           {
            "colorbar": {
             "outlinewidth": 0,
             "ticks": ""
            },
            "colorscale": [
             [
              0,
              "#0d0887"
             ],
             [
              0.1111111111111111,
              "#46039f"
             ],
             [
              0.2222222222222222,
              "#7201a8"
             ],
             [
              0.3333333333333333,
              "#9c179e"
             ],
             [
              0.4444444444444444,
              "#bd3786"
             ],
             [
              0.5555555555555556,
              "#d8576b"
             ],
             [
              0.6666666666666666,
              "#ed7953"
             ],
             [
              0.7777777777777778,
              "#fb9f3a"
             ],
             [
              0.8888888888888888,
              "#fdca26"
             ],
             [
              1,
              "#f0f921"
             ]
            ],
            "type": "surface"
           }
          ],
          "table": [
           {
            "cells": {
             "fill": {
              "color": "#EBF0F8"
             },
             "line": {
              "color": "white"
             }
            },
            "header": {
             "fill": {
              "color": "#C8D4E3"
             },
             "line": {
              "color": "white"
             }
            },
            "type": "table"
           }
          ]
         },
         "layout": {
          "annotationdefaults": {
           "arrowcolor": "#2a3f5f",
           "arrowhead": 0,
           "arrowwidth": 1
          },
          "autotypenumbers": "strict",
          "coloraxis": {
           "colorbar": {
            "outlinewidth": 0,
            "ticks": ""
           }
          },
          "colorscale": {
           "diverging": [
            [
             0,
             "#8e0152"
            ],
            [
             0.1,
             "#c51b7d"
            ],
            [
             0.2,
             "#de77ae"
            ],
            [
             0.3,
             "#f1b6da"
            ],
            [
             0.4,
             "#fde0ef"
            ],
            [
             0.5,
             "#f7f7f7"
            ],
            [
             0.6,
             "#e6f5d0"
            ],
            [
             0.7,
             "#b8e186"
            ],
            [
             0.8,
             "#7fbc41"
            ],
            [
             0.9,
             "#4d9221"
            ],
            [
             1,
             "#276419"
            ]
           ],
           "sequential": [
            [
             0,
             "#0d0887"
            ],
            [
             0.1111111111111111,
             "#46039f"
            ],
            [
             0.2222222222222222,
             "#7201a8"
            ],
            [
             0.3333333333333333,
             "#9c179e"
            ],
            [
             0.4444444444444444,
             "#bd3786"
            ],
            [
             0.5555555555555556,
             "#d8576b"
            ],
            [
             0.6666666666666666,
             "#ed7953"
            ],
            [
             0.7777777777777778,
             "#fb9f3a"
            ],
            [
             0.8888888888888888,
             "#fdca26"
            ],
            [
             1,
             "#f0f921"
            ]
           ],
           "sequentialminus": [
            [
             0,
             "#0d0887"
            ],
            [
             0.1111111111111111,
             "#46039f"
            ],
            [
             0.2222222222222222,
             "#7201a8"
            ],
            [
             0.3333333333333333,
             "#9c179e"
            ],
            [
             0.4444444444444444,
             "#bd3786"
            ],
            [
             0.5555555555555556,
             "#d8576b"
            ],
            [
             0.6666666666666666,
             "#ed7953"
            ],
            [
             0.7777777777777778,
             "#fb9f3a"
            ],
            [
             0.8888888888888888,
             "#fdca26"
            ],
            [
             1,
             "#f0f921"
            ]
           ]
          },
          "colorway": [
           "#636efa",
           "#EF553B",
           "#00cc96",
           "#ab63fa",
           "#FFA15A",
           "#19d3f3",
           "#FF6692",
           "#B6E880",
           "#FF97FF",
           "#FECB52"
          ],
          "font": {
           "color": "#2a3f5f"
          },
          "geo": {
           "bgcolor": "white",
           "lakecolor": "white",
           "landcolor": "#E5ECF6",
           "showlakes": true,
           "showland": true,
           "subunitcolor": "white"
          },
          "hoverlabel": {
           "align": "left"
          },
          "hovermode": "closest",
          "mapbox": {
           "style": "light"
          },
          "paper_bgcolor": "white",
          "plot_bgcolor": "#E5ECF6",
          "polar": {
           "angularaxis": {
            "gridcolor": "white",
            "linecolor": "white",
            "ticks": ""
           },
           "bgcolor": "#E5ECF6",
           "radialaxis": {
            "gridcolor": "white",
            "linecolor": "white",
            "ticks": ""
           }
          },
          "scene": {
           "xaxis": {
            "backgroundcolor": "#E5ECF6",
            "gridcolor": "white",
            "gridwidth": 2,
            "linecolor": "white",
            "showbackground": true,
            "ticks": "",
            "zerolinecolor": "white"
           },
           "yaxis": {
            "backgroundcolor": "#E5ECF6",
            "gridcolor": "white",
            "gridwidth": 2,
            "linecolor": "white",
            "showbackground": true,
            "ticks": "",
            "zerolinecolor": "white"
           },
           "zaxis": {
            "backgroundcolor": "#E5ECF6",
            "gridcolor": "white",
            "gridwidth": 2,
            "linecolor": "white",
            "showbackground": true,
            "ticks": "",
            "zerolinecolor": "white"
           }
          },
          "shapedefaults": {
           "line": {
            "color": "#2a3f5f"
           }
          },
          "ternary": {
           "aaxis": {
            "gridcolor": "white",
            "linecolor": "white",
            "ticks": ""
           },
           "baxis": {
            "gridcolor": "white",
            "linecolor": "white",
            "ticks": ""
           },
           "bgcolor": "#E5ECF6",
           "caxis": {
            "gridcolor": "white",
            "linecolor": "white",
            "ticks": ""
           }
          },
          "title": {
           "x": 0.05
          },
          "xaxis": {
           "automargin": true,
           "gridcolor": "white",
           "linecolor": "white",
           "ticks": "",
           "title": {
            "standoff": 15
           },
           "zerolinecolor": "white",
           "zerolinewidth": 2
          },
          "yaxis": {
           "automargin": true,
           "gridcolor": "white",
           "linecolor": "white",
           "ticks": "",
           "title": {
            "standoff": 15
           },
           "zerolinecolor": "white",
           "zerolinewidth": 2
          }
         }
        },
        "title": {
         "text": "Performance of Heuristic Methods"
        },
        "updatemenus": [
         {
          "buttons": [
           {
            "args": [
             {
              "visible": [
               true,
               true,
               true,
               true,
               true,
               true,
               true
              ]
             }
            ],
            "label": "Show All",
            "method": "update"
           },
           {
            "args": [
             {
              "visible": [
               false,
               false,
               false,
               false,
               false,
               false,
               false
              ]
             }
            ],
            "label": "Hide All",
            "method": "update"
           },
           {
            "args": [
             {
              "visible": [
               true,
               false,
               false,
               false,
               false,
               false,
               false
              ]
             }
            ],
            "label": "multi_isl",
            "method": "update"
           },
           {
            "args": [
             {
              "visible": [
               false,
               true,
               false,
               false,
               false,
               false,
               false
              ]
             }
            ],
            "label": "decay",
            "method": "update"
           },
           {
            "args": [
             {
              "visible": [
               false,
               false,
               true,
               false,
               false,
               false,
               false
              ]
             }
            ],
            "label": "more_excuted",
            "method": "update"
           },
           {
            "args": [
             {
              "visible": [
               false,
               false,
               false,
               true,
               false,
               false,
               false
              ]
             }
            ],
            "label": "single-decay",
            "method": "update"
           },
           {
            "args": [
             {
              "visible": [
               false,
               false,
               false,
               false,
               true,
               false,
               false
              ]
             }
            ],
            "label": "max_focus",
            "method": "update"
           },
           {
            "args": [
             {
              "visible": [
               false,
               false,
               false,
               false,
               false,
               true,
               false
              ]
             }
            ],
            "label": "sabre_single",
            "method": "update"
           },
           {
            "args": [
             {
              "visible": [
               false,
               false,
               false,
               false,
               false,
               false,
               true
              ]
             }
            ],
            "label": "sabre_multi",
            "method": "update"
           }
          ],
          "direction": "down",
          "showactive": true
         }
        ],
        "xaxis": {
         "title": {
          "text": "Trial Index"
         }
        },
        "yaxis": {
         "title": {
          "text": "Performance Metric"
         }
        }
       }
      }
     },
     "metadata": {},
     "output_type": "display_data"
    }
   ],
   "source": [
    "import plotly.graph_objects as go\n",
    "\n",
    "\n",
    "\n",
    "fig = go.Figure()\n",
    "\n",
    "methods = list(results.keys())[::-1]\n",
    "\n",
    "# Add each line with visibility toggle\n",
    "for method, values in results.items():\n",
    "    fig.add_trace(go.Scatter(\n",
    "        x=list(range(40)), y=values,\n",
    "        mode='lines+markers',\n",
    "        name=method,\n",
    "        visible=True  # Initially all are visible\n",
    "    ))\n",
    "\n",
    "# Add interactive buttons\n",
    "fig.update_layout(\n",
    "    updatemenus=[{\n",
    "        \"buttons\": [\n",
    "            {\"label\": \"Show All\", \"method\": \"update\", \"args\": [{\"visible\": [True] * len(results)}]},\n",
    "            {\"label\": \"Hide All\", \"method\": \"update\", \"args\": [{\"visible\": [False] * len(results)}]}\n",
    "        ] + [\n",
    "            {\"label\": method, \"method\": \"update\",\n",
    "             \"args\": [{\"visible\": [name == method for name in results]}]}\n",
    "            for method in results\n",
    "        ],\n",
    "        \"direction\": \"down\",\n",
    "        \"showactive\": True,\n",
    "    }]\n",
    ")\n",
    "\n",
    "fig.update_layout(title=\"Performance of Heuristic Methods\", xaxis_title=\"Trial Index\", yaxis_title=\"Performance Metric\")\n",
    "fig.show()\n"
   ]
  }
 ],
 "metadata": {
  "kernelspec": {
   "display_name": "Python 3",
   "language": "python",
   "name": "python3"
  },
  "language_info": {
   "codemirror_mode": {
    "name": "ipython",
    "version": 3
   },
   "file_extension": ".py",
   "mimetype": "text/x-python",
   "name": "python",
   "nbconvert_exporter": "python",
   "pygments_lexer": "ipython3",
   "version": "3.10.12"
  }
 },
 "nbformat": 4,
 "nbformat_minor": 2
}
