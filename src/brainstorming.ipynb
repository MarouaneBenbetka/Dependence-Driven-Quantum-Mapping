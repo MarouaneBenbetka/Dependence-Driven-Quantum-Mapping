{
 "cells": [
  {
   "cell_type": "code",
   "execution_count": 1,
   "metadata": {},
   "outputs": [],
   "source": [
    "import sys\n",
    "sys.path.append(\"..\")\n",
    "\n",
    "# backends\n",
    "from qiskit.providers.fake_provider import Fake27QPulseV1,Fake5QV1,Fake20QV1\n",
    "from qiskit_ibm_runtime.fake_provider import FakeGuadalupeV2\n",
    "\n",
    "\n",
    "# poly_sabre\n",
    "from poly_sabre.poly_circuit_preprocess import *\n",
    "from poly_sabre.poly_circuit_utils import *\n",
    "from poly_sabre.poly_sabre import POLY_SABRE\n",
    "\n",
    "\n",
    "# qiskit\n",
    "from qiskit import QuantumCircuit, transpile\n",
    "\n",
    "\n",
    "import cProfile\n",
    "import pstats"
   ]
  },
  {
   "cell_type": "code",
   "execution_count": 2,
   "metadata": {},
   "outputs": [],
   "source": [
    "file_path = \"../benchmarks/ibmqx/4gt5_76.json\"\n",
    "data = json_file_to_isl(file_path)\n",
    "edges = FakeGuadalupeV2().configuration().coupling_map"
   ]
  },
  {
   "cell_type": "code",
   "execution_count": 3,
   "metadata": {},
   "outputs": [],
   "source": [
    "poly_sabre = POLY_SABRE(edges,data)"
   ]
  },
  {
   "cell_type": "code",
   "execution_count": 4,
   "metadata": {},
   "outputs": [
    {
     "name": "stdout",
     "output_type": "stream",
     "text": [
      "27\n"
     ]
    }
   ],
   "source": [
    "with cProfile.Profile() as pr:\n",
    "    initial_mapping = poly_sabre.get_initial_mapping()\n",
    "    swaps = poly_sabre.run(initial_mapping, num_iter=1)\n",
    "    print(swaps)"
   ]
  },
  {
   "cell_type": "code",
   "execution_count": 5,
   "metadata": {},
   "outputs": [
    {
     "name": "stdout",
     "output_type": "stream",
     "text": [
      "         30947 function calls (30760 primitive calls) in 2.091 seconds\n",
      "\n",
      "   Ordered by: internal time\n",
      "   List reduced from 512 to 10 due to restriction <10>\n",
      "\n",
      "   ncalls  tottime  percall  cumtime  percall filename:lineno(function)\n",
      "     4152    0.824    0.000    0.839    0.000 /home/merwan/Documents/quantum/sabre/new/../poly_sabre/poly_heuristic.py:79(calculate_distance)\n",
      "        2    0.598    0.299    1.958    0.979 /home/merwan/Documents/quantum/sabre/new/../poly_sabre/poly_sabre.py:36(execute_sabre_algorithm)\n",
      "       24    0.260    0.011    0.265    0.011 /home/merwan/Documents/quantum/sabre/new/../poly_sabre/poly_sabre.py:110(find_best_node)\n",
      "      312    0.114    0.000    0.114    0.000 /home/merwan/Documents/quantum/sabre/new/../poly_sabre/poly_sabre.py:151(update_mapping)\n",
      "        2    0.108    0.054    0.108    0.054 /home/merwan/Documents/quantum/sabre/new/../poly_sabre/poly_circuit_preprocess.py:115(get_dag)\n",
      "      288    0.069    0.000    0.950    0.003 /home/merwan/Documents/quantum/sabre/new/../poly_sabre/poly_heuristic.py:6(Poly_heuristic_function)\n",
      "      288    0.031    0.000    0.031    0.000 /home/merwan/Documents/quantum/sabre/new/../poly_sabre/poly_heuristic.py:92(create_extended_successor_set)\n",
      "       74    0.019    0.000    0.019    0.000 /home/merwan/Documents/quantum/sabre/new/../poly_sabre/poly_sabre.py:157(is_gate_executable)\n",
      "     8942    0.016    0.000    0.016    0.000 /home/merwan/.local/lib/python3.10/site-packages/islpy/__init__.py:835(val_to_python)\n",
      "       24    0.010    0.000    1.074    0.045 /home/merwan/Documents/quantum/sabre/new/../poly_sabre/poly_sabre.py:59(apply_heuristic)\n",
      "\n",
      "\n"
     ]
    },
    {
     "data": {
      "text/plain": [
       "<pstats.Stats at 0x7951181cabc0>"
      ]
     },
     "execution_count": 5,
     "metadata": {},
     "output_type": "execute_result"
    }
   ],
   "source": [
    "stats = pstats.Stats(pr)\n",
    "stats.sort_stats(pstats.SortKey.TIME) \n",
    "stats.print_stats(10)"
   ]
  },
  {
   "cell_type": "code",
   "execution_count": 6,
   "metadata": {},
   "outputs": [
    {
     "name": "stdout",
     "output_type": "stream",
     "text": [
      "24\n"
     ]
    }
   ],
   "source": [
    "circuit = QuantumCircuit.from_qasm_str(data[\"qasm_code\"])\n",
    "transpiled_circuit = transpile(circuit, coupling_map=edges, optimization_level=3)\n",
    "sabre_swap_count = transpiled_circuit.count_ops().get('swap') \n",
    "print(sabre_swap_count)"
   ]
  }
 ],
 "metadata": {
  "kernelspec": {
   "display_name": "Python 3",
   "language": "python",
   "name": "python3"
  },
  "language_info": {
   "codemirror_mode": {
    "name": "ipython",
    "version": 3
   },
   "file_extension": ".py",
   "mimetype": "text/x-python",
   "name": "python",
   "nbconvert_exporter": "python",
   "pygments_lexer": "ipython3",
   "version": "3.10.12"
  }
 },
 "nbformat": 4,
 "nbformat_minor": 2
}
