{
 "cells": [
  {
   "cell_type": "code",
   "execution_count": 59,
   "metadata": {},
   "outputs": [],
   "source": [
    "import islpy as isl\n",
    "from src.io_tools import *\n",
    "from src.graph_tools import *\n",
    "from src.swap_tools import *"
   ]
  },
  {
   "cell_type": "code",
   "execution_count": 60,
   "metadata": {},
   "outputs": [],
   "source": [
    "json_file_path = 'benchmarks/polyhedral/cases/bigd.json'\n",
    "\n",
    "data = json_file_to_isl(json_file_path)"
   ]
  },
  {
   "cell_type": "code",
   "execution_count": 61,
   "metadata": {},
   "outputs": [],
   "source": [
    "qops = data[\"Qops\"]\n",
    "\n",
    "domain, access, schedule = filter_multi_qubit_gates(data[\"domain\"], data[\"read_dependencies\"], data[\"schedule\"])\n"
   ]
  },
  {
   "cell_type": "code",
   "execution_count": 62,
   "metadata": {},
   "outputs": [],
   "source": [
    "physical_qubits_domain = isl.Set(f\"{{ [i] : 1 <= i <= {qops} }}\")"
   ]
  },
  {
   "cell_type": "code",
   "execution_count": 63,
   "metadata": {},
   "outputs": [],
   "source": [
    "    \n",
    "graph = [\n",
    "    [1, 5],           # Q[1] is connected to Q[2] and Q[6]\n",
    "    [0, 2, 6],        # Q[2] is connected to Q[1], Q[3], and Q[7]\n",
    "    [1, 3, 7],        # Q[3] is connected to Q[2], Q[4], and Q[8]\n",
    "    [2, 4, 8],        # Q[4] is connected to Q[3], Q[5], and Q[9]\n",
    "    [3, 9],           # Q[5] is connected to Q[4] and Q[10]\n",
    "    [0, 6, 10],       # Q[6] is connected to Q[1], Q[7], and Q[11]\n",
    "    [1, 5, 7, 11],    # Q[7] is connected to Q[2], Q[6], Q[8], and Q[12]\n",
    "    [2, 6, 8, 12],    # Q[8] is connected to Q[3], Q[7], Q[9], and Q[13]\n",
    "    [3, 7, 9, 13],    # Q[9] is connected to Q[4], Q[8], Q[10], and Q[14]\n",
    "    [4, 8, 14],       # Q[10] is connected to Q[5], Q[9], and Q[15]\n",
    "    [5, 11, 15],      # Q[11] is connected to Q[6], Q[12], and Q[16]\n",
    "    [6, 10, 12, 16],  # Q[12] is connected to Q[7], Q[11], Q[13], and Q[17]\n",
    "    [7, 11, 13, 17],  # Q[13] is connected to Q[8], Q[12], Q[14], and Q[18]\n",
    "    [8, 12, 14, 18],  # Q[14] is connected to Q[9], Q[13], Q[15], and Q[19]\n",
    "    [9, 13, 19],      # Q[15] is connected to Q[10], Q[14], and Q[20]\n",
    "    [10, 16],         # Q[16] is connected to Q[11] and Q[17]\n",
    "    [11, 15, 17],     # Q[17] is connected to Q[12], Q[16], and Q[18]\n",
    "    [12, 16, 18],     # Q[18] is connected to Q[13], Q[17], and Q[19]\n",
    "    [13, 17, 19],     # Q[19] is connected to Q[14], Q[18], and Q[20]\n",
    "    [14, 18]          # Q[20] is connected to Q[15] and Q[19]\n",
    "]\n",
    "\n",
    "backend_disconnected_edges =  extract_edges_map(graph)\n",
    "shortest_paths = extract_shortest_paths(graph)"
   ]
  },
  {
   "cell_type": "code",
   "execution_count": 64,
   "metadata": {},
   "outputs": [],
   "source": [
    "initial_mapping = isl.Map(f\"{{ q[i] -> [i] : 1<=i<={qops} }}\")"
   ]
  },
  {
   "cell_type": "code",
   "execution_count": 65,
   "metadata": {},
   "outputs": [],
   "source": [
    "mapping = initial_mapping\n",
    "swap_count = 0\n",
    "programme = schedule"
   ]
  },
  {
   "cell_type": "code",
   "execution_count": 66,
   "metadata": {},
   "outputs": [],
   "source": [
    "import time"
   ]
  },
  {
   "cell_type": "code",
   "execution_count": 67,
   "metadata": {},
   "outputs": [
    {
     "name": "stdout",
     "output_type": "stream",
     "text": [
      "Iteration 0\n",
      "{ [i0] : 5 <= i0 <= 8 and (i0 >= 7 or i0 >= 7 or i0 <= 6); [9] }\n",
      "Iteration 1\n",
      "{ [i0] : 7 <= i0 <= 8; [6]; [9] }\n",
      "Iteration 2\n",
      "{ [i0] : 7 <= i0 <= 8; [9] }\n",
      "Iteration 3\n",
      "{ [9]; [8] }\n",
      "Iteration 4\n",
      "{ [9] }\n",
      "Time taken: 0.024967432022094727\n"
     ]
    }
   ],
   "source": [
    "iteration = 0\n",
    "start = time.time()\n",
    "while not programme.is_empty():\n",
    "    print(f\"Iteration {iteration}\")\n",
    "    print(programme.domain())\n",
    "    iteration += 1\n",
    "    programme_mapped = programme.apply_range(mapping)\n",
    "    programme_access = programme_mapped.flat_range_product(programme_mapped).intersect_range(isl.Set(\"{ [i, j] : i > j }\"))\n",
    "    first_disconnected_edge = programme_access.intersect_range(backend_disconnected_edges).domain().lexmin()\n",
    "    if first_disconnected_edge.is_empty():\n",
    "        break\n",
    "\n",
    "    disconected_qubits = programme_mapped.intersect_domain(first_disconnected_edge).range().as_set()\n",
    "    q1 , q2 = eval(disconected_qubits.to_str().replace('[','').replace(']','').replace(';',','))\n",
    "    swap_count += shortest_paths[q1]['costs'][q2] -1\n",
    "    new_domain = programme.domain().as_set().lex_gt_set(first_disconnected_edge.as_set()).domain()\n",
    "    programme = programme.intersect_domain(new_domain).coalesce()\n",
    "    swap_map = swaps_to_isl_map(shortest_paths[q1]['paths'][q2])\n",
    "    mapping = apply_swaps_to_logical_qubits_map(swap_map,mapping,physical_qubits_domain)\n",
    "print(f\"Time taken: {time.time() - start}\")\n"
   ]
  },
  {
   "cell_type": "code",
   "execution_count": 47,
   "metadata": {},
   "outputs": [
    {
     "name": "stdout",
     "output_type": "stream",
     "text": [
      "{ S8[i0] : 0 <= i0 <= 1; S6[i0, i1] : i0 >= 0 and 0 <= i1 <= 1 - i0 }\n"
     ]
    }
   ],
   "source": [
    "print(programme.domain())\n"
   ]
  },
  {
   "cell_type": "code",
   "execution_count": 19,
   "metadata": {},
   "outputs": [
    {
     "data": {
      "text/plain": [
       "Map(\"{ q[1] -> Q[3]; q[1] -> Q[2] }\")"
      ]
     },
     "execution_count": 19,
     "metadata": {},
     "output_type": "execute_result"
    }
   ],
   "source": [
    "isl.UnionMap(\"{ q[1] -> Q[2] ; q[1] -> Q[3] }\").as_map()"
   ]
  },
  {
   "cell_type": "code",
   "execution_count": 21,
   "metadata": {},
   "outputs": [
    {
     "data": {
      "text/plain": [
       "{1, 2}"
      ]
     },
     "execution_count": 21,
     "metadata": {},
     "output_type": "execute_result"
    }
   ],
   "source": [
    "map.flat_range_product(map)\n",
    "\n",
    "eval(\"{ 1,2}\")"
   ]
  }
 ],
 "metadata": {
  "kernelspec": {
   "display_name": "Python 3",
   "language": "python",
   "name": "python3"
  },
  "language_info": {
   "codemirror_mode": {
    "name": "ipython",
    "version": 3
   },
   "file_extension": ".py",
   "mimetype": "text/x-python",
   "name": "python",
   "nbconvert_exporter": "python",
   "pygments_lexer": "ipython3",
   "version": "3.12.3"
  }
 },
 "nbformat": 4,
 "nbformat_minor": 2
}
