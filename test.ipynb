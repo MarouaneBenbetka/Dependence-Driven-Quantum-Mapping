{
 "cells": [
  {
   "cell_type": "code",
   "execution_count": 2,
   "metadata": {},
   "outputs": [],
   "source": [
    "import islpy as isl"
   ]
  },
  {
   "cell_type": "code",
   "execution_count": 3,
   "metadata": {},
   "outputs": [],
   "source": [
    "logical_qubits_domain = isl.BasicSet(\"{ q[i] : 1 <= i <  8 }\")\n",
    "physical_qubits_domain = isl.BasicSet(\"{ Q[i] : 0 <= i <  8 }\")"
   ]
  },
  {
   "cell_type": "code",
   "execution_count": 4,
   "metadata": {},
   "outputs": [],
   "source": [
    "swap = isl.Map(\"{ Q[2] -> Q[4]; Q[1] -> Q[2]; Q[4] -> Q[1] }\")\n",
    "\n",
    "swap_domain = swap.domain()\n",
    "swap_complement = physical_qubits_domain.subtract(swap_domain)\n"
   ]
  },
  {
   "cell_type": "code",
   "execution_count": 5,
   "metadata": {},
   "outputs": [],
   "source": [
    "initial_mapping = isl.Map(\"{ q[i] -> Q[8-i] : 1<=i<8}\")"
   ]
  },
  {
   "cell_type": "code",
   "execution_count": 7,
   "metadata": {},
   "outputs": [],
   "source": [
    "result = initial_mapping.apply_range(swap).union(initial_mapping.intersect_range(swap_complement))"
   ]
  },
  {
   "cell_type": "code",
   "execution_count": 8,
   "metadata": {},
   "outputs": [
    {
     "data": {
      "text/plain": [
       "Map(\"{ q[i] -> Q[8 - i] : 0 < i <= 3; q[i = 6] -> Q[4]; q[i = 5] -> Q[3]; q[i = 7] -> Q[2]; q[i = 4] -> Q[1] }\")"
      ]
     },
     "execution_count": 8,
     "metadata": {},
     "output_type": "execute_result"
    }
   ],
   "source": [
    "result"
   ]
  }
 ],
 "metadata": {
  "kernelspec": {
   "display_name": "Python 3",
   "language": "python",
   "name": "python3"
  },
  "language_info": {
   "codemirror_mode": {
    "name": "ipython",
    "version": 3
   },
   "file_extension": ".py",
   "mimetype": "text/x-python",
   "name": "python",
   "nbconvert_exporter": "python",
   "pygments_lexer": "ipython3",
   "version": "3.12.3"
  }
 },
 "nbformat": 4,
 "nbformat_minor": 2
}
