{
 "cells": [
  {
   "cell_type": "code",
   "execution_count": 3,
   "metadata": {},
   "outputs": [],
   "source": [
    "import islpy as isl"
   ]
  },
  {
   "cell_type": "code",
   "execution_count": 4,
   "metadata": {},
   "outputs": [],
   "source": [
    "logical_qubits_domain = isl.BasicSet(\"{ q[i] : 1 <= i <  8 }\")\n",
    "physical_qubits_domain = isl.BasicSet(\"{ Q[i] : 0 <= i <  8 }\")"
   ]
  },
  {
   "cell_type": "code",
   "execution_count": 5,
   "metadata": {},
   "outputs": [],
   "source": [
    "swap = isl.Map(\"{ Q[2] -> Q[4]; Q[1] -> Q[2]; Q[4] -> Q[1] }\")\n",
    "\n",
    "swap_domain = swap.domain()\n",
    "swap_complement = physical_qubits_domain.subtract(swap_domain)\n"
   ]
  },
  {
   "cell_type": "code",
   "execution_count": 6,
   "metadata": {},
   "outputs": [],
   "source": [
    "initial_mapping = isl.Map(\"{ q[i] -> Q[8-i] : 1<=i<8}\")"
   ]
  },
  {
   "cell_type": "code",
   "execution_count": 7,
   "metadata": {},
   "outputs": [],
   "source": [
    "result = initial_mapping.apply_range(swap).union(initial_mapping.intersect_range(swap_complement))"
   ]
  },
  {
   "cell_type": "code",
   "execution_count": 11,
   "metadata": {},
   "outputs": [
    {
     "data": {
      "text/plain": [
       "Map(\"{ q[i] -> Q[8 - i] : 0 < i <= 3; q[i = 6] -> Q[4]; q[i = 5] -> Q[3]; q[i = 7] -> Q[2]; q[i = 4] -> Q[1] }\")"
      ]
     },
     "execution_count": 11,
     "metadata": {},
     "output_type": "execute_result"
    }
   ],
   "source": [
    "result"
   ]
  },
  {
   "cell_type": "code",
   "execution_count": 12,
   "metadata": {},
   "outputs": [
    {
     "data": {
      "text/plain": [
       "Map(\"{ q[i] -> Q[8 - i] : 0 < i <= 3; q[i] -> Q[-2 + i] : 5 <= i <= 6; q[i = 7] -> Q[2]; q[i = 4] -> Q[1] }\")"
      ]
     },
     "execution_count": 12,
     "metadata": {},
     "output_type": "execute_result"
    }
   ],
   "source": [
    "result.coalesce()"
   ]
  },
  {
   "cell_type": "code",
   "execution_count": 94,
   "metadata": {},
   "outputs": [],
   "source": [
    "\n",
    "test_map = isl.Map(\"{ q[1] -> Q[2]; q[2] -> Q[2] ; q[1]->Q[3] }\")"
   ]
  },
  {
   "cell_type": "code",
   "execution_count": 104,
   "metadata": {},
   "outputs": [
    {
     "ename": "AttributeError",
     "evalue": "'islpy._isl.Map' object has no attribute 'get_map_tuples'",
     "output_type": "error",
     "traceback": [
      "\u001b[0;31m---------------------------------------------------------------------------\u001b[0m",
      "\u001b[0;31mAttributeError\u001b[0m                            Traceback (most recent call last)",
      "Cell \u001b[0;32mIn[104], line 1\u001b[0m\n\u001b[0;32m----> 1\u001b[0m \u001b[43mtest_map\u001b[49m\u001b[38;5;241;43m.\u001b[39;49m\u001b[43mreverse\u001b[49m\u001b[43m(\u001b[49m\u001b[43m)\u001b[49m\u001b[38;5;241;43m.\u001b[39;49m\u001b[43mget_map_tuples\u001b[49m()\n",
      "\u001b[0;31mAttributeError\u001b[0m: 'islpy._isl.Map' object has no attribute 'get_map_tuples'"
     ]
    }
   ],
   "source": [
    "test_map.reverse().get_map_tuples()"
   ]
  },
  {
   "cell_type": "code",
   "execution_count": 76,
   "metadata": {},
   "outputs": [
    {
     "data": {
      "text/plain": [
       "Map(\"{ q[2] -> [1]; q[1] -> [1] }\")"
      ]
     },
     "execution_count": 76,
     "metadata": {},
     "output_type": "execute_result"
    }
   ],
   "source": [
    "x"
   ]
  },
  {
   "cell_type": "code",
   "execution_count": 67,
   "metadata": {},
   "outputs": [
    {
     "data": {
      "text/plain": [
       "Map(\"{ q[1] -> Q[6]; q[1] -> Q[5]; q[1] -> Q[4]; q[2] -> Q[4] }\")"
      ]
     },
     "execution_count": 67,
     "metadata": {},
     "output_type": "execute_result"
    }
   ],
   "source": [
    "test_map.sum(test_map)"
   ]
  }
 ],
 "metadata": {
  "kernelspec": {
   "display_name": "Python 3",
   "language": "python",
   "name": "python3"
  },
  "language_info": {
   "codemirror_mode": {
    "name": "ipython",
    "version": 3
   },
   "file_extension": ".py",
   "mimetype": "text/x-python",
   "name": "python",
   "nbconvert_exporter": "python",
   "pygments_lexer": "ipython3",
   "version": "3.12.3"
  }
 },
 "nbformat": 4,
 "nbformat_minor": 2
}
